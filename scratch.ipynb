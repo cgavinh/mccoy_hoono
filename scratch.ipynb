{
 "cells": [
  {
   "cell_type": "markdown",
   "id": "8d39f223-560c-40bb-a9df-91db414f7f94",
   "metadata": {},
   "source": [
    "# WHERE IS R?"
   ]
  },
  {
   "cell_type": "markdown",
   "id": "9a8d33e3-f99b-4cdc-b952-88d7c7d64a22",
   "metadata": {},
   "source": [
    "find the r value that will give a displacement of about 20 wavenumbers (include flex for target) for each coordinate from an equilibrium scan"
   ]
  },
  {
   "cell_type": "code",
   "execution_count": 1,
   "id": "7fdc79a6-a8a2-4eb1-92a9-dd4582a211a0",
   "metadata": {},
   "outputs": [
    {
     "data": {
      "application/vnd.jupyter.widget-view+json": {
       "model_id": "a760b8fc6e124b839c3d74b9bbd5a2bd",
       "version_major": 2,
       "version_minor": 0
      },
      "text/plain": []
     },
     "metadata": {},
     "output_type": "display_data"
    }
   ],
   "source": [
    "import sys\n",
    "import os\n",
    "sys.path.append('../CGH_Toolbox/')\n",
    "import matplotlib.pyplot as plt\n",
    "from matplotlib import ticker, cm\n",
    "from matplotlib.colors import LogNorm\n",
    "import numpy as np\n",
    "import nglview as nv\n",
    "import MDAnalysis as mda\n",
    "import pyvibdmc as pv\n",
    "import utilities as uts\n",
    "import gaussian_tools as gt\n",
    "import misc\n",
    "import glob\n",
    "import pandas as pd\n",
    "import pickle\n",
    "from scipy import interpolate\n",
    "import dvr, utilities, dvr_arrays\n",
    "from McUtils import Data as McData\n",
    "import copy"
   ]
  },
  {
   "cell_type": "markdown",
   "id": "a670a06a-9037-47eb-a7f6-1cb1dc7af03f",
   "metadata": {},
   "source": [
    "- compare HONO and HOONO\n",
    "- \"representative displacements\"\n",
    "- \n"
   ]
  },
  {
   "cell_type": "markdown",
   "id": "dedb11b7-5a07-4df0-8971-58facc5a0019",
   "metadata": {},
   "source": [
    "# Scratch"
   ]
  },
  {
   "cell_type": "code",
   "execution_count": 14,
   "id": "fd9363f9-34a7-4722-af36-2fb24dabe0ec",
   "metadata": {},
   "outputs": [],
   "source": [
    "hoono_eq_energy = -280.4467347"
   ]
  },
  {
   "cell_type": "code",
   "execution_count": 4,
   "id": "91df7595-380b-4ac0-aedf-48666b41ade5",
   "metadata": {},
   "outputs": [
    {
     "name": "stderr",
     "output_type": "stream",
     "text": [
      "<ipython-input-4-eb58ad143722>:2: VisibleDeprecationWarning: Creating an ndarray from ragged nested sequences (which is a list-or-tuple of lists-or-tuples-or ndarrays with different lengths or shapes) is deprecated. If you meant to do this, you must specify 'dtype=object' when creating the ndarray.\n",
      "  specs = np.array([[1, 2, 3, 4], [1, 2, 3], [1, 2]])\n",
      "<ipython-input-4-eb58ad143722>:3: VisibleDeprecationWarning: Creating an ndarray from ragged nested sequences (which is a list-or-tuple of lists-or-tuples-or ndarrays with different lengths or shapes) is deprecated. If you meant to do this, you must specify 'dtype=object' when creating the ndarray.\n",
      "  names = np.array([['r1', 'r2', 'r3', 'r4'], ['a1', 'a2', 'a3'], ['d1', 'd2']])\n",
      "<ipython-input-4-eb58ad143722>:4: VisibleDeprecationWarning: Creating an ndarray from ragged nested sequences (which is a list-or-tuple of lists-or-tuples-or ndarrays with different lengths or shapes) is deprecated. If you meant to do this, you must specify 'dtype=object' when creating the ndarray.\n",
      "  vals = np.array([[0.96897556, 1.45491931, 1.45878406, 1.17072885],\n"
     ]
    }
   ],
   "source": [
    "atoms = ['H', 'O', 'O', 'N', 'O']\n",
    "specs = np.array([[1, 2, 3, 4], [1, 2, 3], [1, 2]])\n",
    "names = np.array([['r1', 'r2', 'r3', 'r4'], ['a1', 'a2', 'a3'], ['d1', 'd2']])\n",
    "vals = np.array([[0.96897556, 1.45491931, 1.45878406, 1.17072885],\n",
    "                 [97.59494903, 102.29752444, 109.06955123],\n",
    "                 [180., 180.]])\n",
    "units = [\"Angstroms\", \"Degrees\"]\n",
    "hoono_eq = misc.zmat(atoms=atoms, easy_build_dict={'specs':specs, 'names':names, 'vals':vals, 'units':units})"
   ]
  },
  {
   "cell_type": "code",
   "execution_count": 5,
   "id": "25230b28-9a07-45b0-8429-a5ab0308670b",
   "metadata": {},
   "outputs": [],
   "source": [
    "files=['../mccoy_hoono/explore_disps/hoono_r3_1p437917',\n",
    "       '../mccoy_hoono/explore_disps/hoono_a2_100p8428',\n",
    "       '../mccoy_hoono/explore_disps/hoono_d1_188p7757',\n",
    "       '../mccoy_hoono/explore_disps/hoono_a3_110p1829',\n",
    "       '../mccoy_hoono/explore_disps/hoono_r4_1p162801',\n",
    "       '../mccoy_hoono/explore_disps/hoono_r4_1p178656',\n",
    "       '../mccoy_hoono/explore_disps/hoono_a1_99p25636',\n",
    "       '../mccoy_hoono/explore_disps/hoono_d1_171p2242',\n",
    "       '../mccoy_hoono/explore_disps/hoono_a2_103p7522',\n",
    "       '../mccoy_hoono/explore_disps/hoono_r1_0p958995',\n",
    "       '../mccoy_hoono/explore_disps/hoono_r1_0p978956',\n",
    "       '../mccoy_hoono/explore_disps/hoono_a3_107p9562',\n",
    "       '../mccoy_hoono/explore_disps/hoono_r3_1p479650',\n",
    "       '../mccoy_hoono/explore_disps/hoono_a1_95p93353',\n",
    "       '../mccoy_hoono/explore_disps/hoono_r2_1p441450',\n",
    "       '../mccoy_hoono/explore_disps/hoono_r2_1p468388']"
   ]
  },
  {
   "cell_type": "code",
   "execution_count": 6,
   "id": "a629a91f-1378-4348-8fd7-7e43e84d6ac0",
   "metadata": {},
   "outputs": [],
   "source": [
    "results = misc.pull_displaced_results(eq_zmat=hoono_eq,\n",
    "                                          files=files)"
   ]
  },
  {
   "cell_type": "code",
   "execution_count": 15,
   "id": "95582564-714b-4692-b31e-84c1a791cc67",
   "metadata": {},
   "outputs": [
    {
     "data": {
      "text/plain": [
       "array([ 20.3340485 ,  20.15277259, -19.81224285,  19.99070093,\n",
       "        21.67033319,  18.31555883,  20.62229647, -19.81224279,\n",
       "        19.84383384,  20.44186127,  19.54700854,  19.99040472,\n",
       "        19.73896419,  19.35234009,  19.14206419,  20.84936775])"
      ]
     },
     "execution_count": 15,
     "metadata": {},
     "output_type": "execute_result"
    }
   ],
   "source": [
    "(results['disp_energies']-hoono_eq_energy) * McData.UnitsData.convert( \"Hartrees\",\"Wavenumbers\")"
   ]
  },
  {
   "cell_type": "code",
   "execution_count": 16,
   "id": "d720dc58-8f75-4fac-88b9-affcf6c100f9",
   "metadata": {},
   "outputs": [
    {
     "data": {
      "text/plain": [
       "{'filenames': ['../mccoy_hoono/explore_disps/hoono_r3_1p437917',\n",
       "  '../mccoy_hoono/explore_disps/hoono_a2_100p8428',\n",
       "  '../mccoy_hoono/explore_disps/hoono_d1_188p7757',\n",
       "  '../mccoy_hoono/explore_disps/hoono_a3_110p1829',\n",
       "  '../mccoy_hoono/explore_disps/hoono_r4_1p162801',\n",
       "  '../mccoy_hoono/explore_disps/hoono_r4_1p178656',\n",
       "  '../mccoy_hoono/explore_disps/hoono_a1_99p25636',\n",
       "  '../mccoy_hoono/explore_disps/hoono_d1_171p2242',\n",
       "  '../mccoy_hoono/explore_disps/hoono_a2_103p7522',\n",
       "  '../mccoy_hoono/explore_disps/hoono_r1_0p958995',\n",
       "  '../mccoy_hoono/explore_disps/hoono_r1_0p978956',\n",
       "  '../mccoy_hoono/explore_disps/hoono_a3_107p9562',\n",
       "  '../mccoy_hoono/explore_disps/hoono_r3_1p479650',\n",
       "  '../mccoy_hoono/explore_disps/hoono_a1_95p93353',\n",
       "  '../mccoy_hoono/explore_disps/hoono_r2_1p441450',\n",
       "  '../mccoy_hoono/explore_disps/hoono_r2_1p468388'],\n",
       " 'disp_coords': array(['r3', 'a2', 'd1', 'a3', 'r4', 'r4', 'a1', 'd1', 'a2', 'r1', 'r1',\n",
       "        'a3', 'r3', 'a1', 'r2', 'r2'], dtype='<U10'),\n",
       " 'disp_vals': array([-2.08640600e-02, -1.45470444e+00,  8.77578000e+00,  1.11334877e+00,\n",
       "        -7.92885000e-03,  7.93115000e-03,  1.66141097e+00, -8.77578000e+00,\n",
       "         1.45470556e+00, -9.97556000e-03,  9.98444000e-03, -1.11335123e+00,\n",
       "         2.08659400e-02, -1.66141903e+00, -1.34693100e-02,  1.34706900e-02]),\n",
       " 'disp_units': array(['Angstroms', 'Degrees', 'Degrees', 'Degrees', 'Angstroms',\n",
       "        'Angstroms', 'Degrees', 'Degrees', 'Degrees', 'Angstroms',\n",
       "        'Angstroms', 'Degrees', 'Angstroms', 'Degrees', 'Angstroms',\n",
       "        'Angstroms'], dtype='<U10'),\n",
       " 'disp_energies': array([-280.44664205, -280.44664288, -280.44682497, -280.44664362,\n",
       "        -280.44663596, -280.44665125, -280.44664074, -280.44682497,\n",
       "        -280.44664428, -280.44664156, -280.44664564, -280.44664362,\n",
       "        -280.44664476, -280.44664652, -280.44664748, -280.4466397 ])}"
      ]
     },
     "execution_count": 16,
     "metadata": {},
     "output_type": "execute_result"
    }
   ],
   "source": [
    "results"
   ]
  },
  {
   "cell_type": "code",
   "execution_count": 18,
   "id": "be245d09-5a53-4096-8d7d-4ef3e004130d",
   "metadata": {},
   "outputs": [
    {
     "ename": "TypeError",
     "evalue": "array() missing required argument 'object' (pos 1)",
     "output_type": "error",
     "traceback": [
      "\u001b[0;31m--------------------------------------------------------\u001b[0m",
      "\u001b[0;31mTypeError\u001b[0m              Traceback (most recent call last)",
      "\u001b[0;32m<ipython-input-18-b3c800360374>\u001b[0m in \u001b[0;36m<module>\u001b[0;34m\u001b[0m\n\u001b[0;32m----> 1\u001b[0;31m \u001b[0marr\u001b[0m \u001b[0;34m=\u001b[0m \u001b[0mnp\u001b[0m\u001b[0;34m.\u001b[0m\u001b[0marray\u001b[0m\u001b[0;34m(\u001b[0m\u001b[0;34m)\u001b[0m\u001b[0;34m\u001b[0m\u001b[0;34m\u001b[0m\u001b[0m\n\u001b[0m",
      "\u001b[0;31mTypeError\u001b[0m: array() missing required argument 'object' (pos 1)"
     ]
    }
   ],
   "source": [
    "arr = np.array()"
   ]
  },
  {
   "cell_type": "code",
   "execution_count": null,
   "id": "2c13ffa8-175b-47f7-8484-4990d5aa8ccb",
   "metadata": {},
   "outputs": [],
   "source": [
    "\n",
    "# load Gaussian environment\n",
    "module load contrib/g16.b01\n",
    "\n",
    "# debugging information\n",
    "echo \"**** Job Debugging Information ****\"\n",
    "echo \"This job will run on $SLURM_JOB_NODELIST\"\n",
    "echo \"\"\n",
    "echo \"ENVIRONMENT VARIABLES\"\n",
    "set\n",
    "echo \"**********************************************\" \n",
    "\n",
    "# run Gaussian"
   ]
  },
  {
   "cell_type": "code",
   "execution_count": 5,
   "id": "a3763173-4816-423b-841c-493438162bd7",
   "metadata": {},
   "outputs": [
    {
     "name": "stdout",
     "output_type": "stream",
     "text": [
      "\n",
      "# load Gaussian environment\n",
      "module load contrib/g16.b01\n",
      "# debugging information\n",
      "echo \"**** Job Debugging Information ****\"\n",
      "echo \"This job will run on $SLURM_JOB_NODELIST\"\n",
      "echo \"\"\n",
      "echo \"ENVIRONMENT VARIABLES\"\n",
      "set\n",
      "echo \"**********************************************\"\n",
      "\n",
      "# run Gaussian\n"
     ]
    }
   ],
   "source": [
    "print('\\n# load Gaussian environment\\nmodule load contrib/g16.b01\\n# debugging information\\necho '\n",
    "                     '\\\"**** Job Debugging Information ****\\\"\\necho \\\"This job will run on $SLURM_JOB_NODELIST\"\\necho \\\"\\\"\\n'\n",
    "                     'echo \"ENVIRONMENT VARIABLES\"\\nset\\necho \\\"**********************************************\\\"\\n\\n# run Gaussian')"
   ]
  },
  {
   "cell_type": "code",
   "execution_count": 6,
   "id": "58282121-98d6-42ba-ba73-c8d2613e4d42",
   "metadata": {},
   "outputs": [],
   "source": [
    "list1 = [\"c\", \"b\", \"d\", \"a\"]\n",
    "\n",
    "list2 = [2, 3, 1, 4]\n",
    "\n",
    "\n",
    "zipped_lists = zip(list1, list2)\n",
    "\n",
    "sorted_pairs = sorted(zipped_lists)\n",
    "\n",
    "\n",
    "tuples = zip(*sorted_pairs)\n",
    "\n",
    "list1, list2 = [ list(tuple) for tuple in  tuples]"
   ]
  },
  {
   "cell_type": "code",
   "execution_count": null,
   "id": "f13d5ed0-e494-41db-8dc0-9e0d62f0eac0",
   "metadata": {},
   "outputs": [],
   "source": []
  },
  {
   "cell_type": "code",
   "execution_count": 7,
   "id": "6b1210bc-624a-41f6-93f1-89ff5c0d7f13",
   "metadata": {},
   "outputs": [
    {
     "data": {
      "text/plain": [
       "['a', 'b', 'c', 'd']"
      ]
     },
     "execution_count": 7,
     "metadata": {},
     "output_type": "execute_result"
    }
   ],
   "source": [
    "list1"
   ]
  },
  {
   "cell_type": "code",
   "execution_count": 8,
   "id": "c7fe7741-3af0-4f0b-96bc-3da8d25ceec4",
   "metadata": {},
   "outputs": [
    {
     "data": {
      "text/plain": [
       "[4, 3, 2, 1]"
      ]
     },
     "execution_count": 8,
     "metadata": {},
     "output_type": "execute_result"
    }
   ],
   "source": [
    "list2"
   ]
  },
  {
   "cell_type": "code",
   "execution_count": 15,
   "id": "cd80ff45-e5b0-4dfc-85e0-6a3d88f5e6e7",
   "metadata": {},
   "outputs": [],
   "source": [
    "d = {'list1': [\"c\", \"b\", \"d\", \"a\"],\n",
    "     'list2': [2, 3, 1, 4],\n",
    "     'list3': [\"!\", \"@\", \"#\", \"$\"]}"
   ]
  },
  {
   "cell_type": "code",
   "execution_count": 16,
   "id": "1748cf79-0c06-4343-bed4-5423b47fc1b4",
   "metadata": {},
   "outputs": [],
   "source": [
    "zipped_lists = zip(d['list1'], d['list2'], d['list3'])\n",
    "\n",
    "sorted_pairs = sorted(zipped_lists)\n",
    "\n",
    "\n",
    "tuples = zip(*sorted_pairs)\n",
    "\n",
    "d['list1'], d['list2'], d['list3'] = [ list(tuple) for tuple in  tuples]"
   ]
  },
  {
   "cell_type": "code",
   "execution_count": 17,
   "id": "dd91ba39-d743-4acd-a993-d8b934477ddd",
   "metadata": {},
   "outputs": [
    {
     "data": {
      "text/plain": [
       "{'list1': ['a', 'b', 'c', 'd'],\n",
       " 'list2': [4, 3, 2, 1],\n",
       " 'list3': ['$', '@', '!', '#']}"
      ]
     },
     "execution_count": 17,
     "metadata": {},
     "output_type": "execute_result"
    }
   ],
   "source": [
    "d"
   ]
  },
  {
   "cell_type": "code",
   "execution_count": null,
   "id": "e9b86f2f-6998-43f0-b76b-554c8f085459",
   "metadata": {},
   "outputs": [],
   "source": []
  }
 ],
 "metadata": {
  "kernelspec": {
   "display_name": "Python 3",
   "language": "python",
   "name": "python3"
  },
  "language_info": {
   "codemirror_mode": {
    "name": "ipython",
    "version": 3
   },
   "file_extension": ".py",
   "mimetype": "text/x-python",
   "name": "python",
   "nbconvert_exporter": "python",
   "pygments_lexer": "ipython3",
   "version": "3.8.8"
  }
 },
 "nbformat": 4,
 "nbformat_minor": 5
}
