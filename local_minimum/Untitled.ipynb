{
 "cells": [
  {
   "cell_type": "code",
   "execution_count": 1,
   "id": "410221ae-4fe1-40ca-9674-6358f9f90ff2",
   "metadata": {},
   "outputs": [
    {
     "data": {
      "application/vnd.jupyter.widget-view+json": {
       "model_id": "24d8f442a3e942788658e6f7c82eab61",
       "version_major": 2,
       "version_minor": 0
      },
      "text/plain": []
     },
     "metadata": {},
     "output_type": "display_data"
    }
   ],
   "source": [
    "import sys\n",
    "import os\n",
    "sys.path.append('../CGH_Toolbox/')\n",
    "import matplotlib.pyplot as plt\n",
    "from matplotlib import ticker, cm\n",
    "from matplotlib.colors import LogNorm\n",
    "import numpy as np\n",
    "import nglview as nv\n",
    "import MDAnalysis as mda\n",
    "import pyvibdmc as pv\n",
    "import utilities as uts\n",
    "import gaussian_tools as gt\n",
    "import misc\n",
    "import glob\n",
    "import pandas as pd\n",
    "import pickle\n",
    "from scipy import interpolate\n",
    "import dvr, utilities, dvr_arrays\n",
    "from McUtils import Data as McData\n",
    "import copy"
   ]
  },
  {
   "cell_type": "markdown",
   "id": "798175c4-09b0-4bf9-a794-b8bd7e881a5d",
   "metadata": {},
   "source": [
    "# Outstanding questions:"
   ]
  },
  {
   "cell_type": "markdown",
   "id": "846dd654-f190-4c74-9569-183af2c6a6b3",
   "metadata": {},
   "source": [
    "## What is the overall goal? Why am I doing this?"
   ]
  },
  {
   "cell_type": "markdown",
   "id": "bc070f09-09b7-4f3a-90be-2440b897ea33",
   "metadata": {},
   "source": [
    "## Why HOONO?"
   ]
  },
  {
   "cell_type": "markdown",
   "id": "5937bb5c-0aef-4b1b-bba1-4adaeb7dc83a",
   "metadata": {},
   "source": [
    "# 2nd-Derivative of potential v coordinate displacement"
   ]
  },
  {
   "cell_type": "markdown",
   "id": "207d4413-3645-4743-999f-c70f7c5ed1de",
   "metadata": {},
   "source": [
    "- I can generate a series of SP calculations that change the energy by 10, 15, 20, 25 wavenumbers, etc. \n",
    "- I then need to pull the input geometry and energy from each scan\n",
    "- From there I can figure out which coordinate was changed, by how much, and how much the energy actually changed.\n",
    "- From there I need to calculate the 2nd derivative of the potential with finite difference and compare it to the 2nd derivative from gaussian"
   ]
  },
  {
   "cell_type": "markdown",
   "id": "3271eed6-b8ff-477d-9ad4-432d2bee7557",
   "metadata": {},
   "source": [
    "What pieces do I still need?\n",
    "- I need to be able to calculate derivatives"
   ]
  },
  {
   "cell_type": "markdown",
   "id": "6281691c-e9ef-4dc3-b514-afae7d33cb73",
   "metadata": {},
   "source": [
    "How should I pull the information from gaussian?\n",
    "```\n",
    "results = {'filenames': []\n",
    "             'disp_coords':[]\n",
    "             'disp_vals': []\n",
    "             'coord_units': []\n",
    "             'disp_energys: []\n",
    "             }\n",
    "             \n",
    "\n",
    "            "
   ]
  },
  {
   "cell_type": "code",
   "execution_count": 2,
   "id": "5066ddfb-afc9-452a-afa4-ae3a8c53a75a",
   "metadata": {},
   "outputs": [],
   "source": [
    "hoono_eq_energy = -280.4467347"
   ]
  },
  {
   "cell_type": "code",
   "execution_count": 3,
   "id": "1c55ba88-8a0f-4d25-a441-cab1bac8aa93",
   "metadata": {},
   "outputs": [
    {
     "name": "stderr",
     "output_type": "stream",
     "text": [
      "<ipython-input-3-eb58ad143722>:2: VisibleDeprecationWarning: Creating an ndarray from ragged nested sequences (which is a list-or-tuple of lists-or-tuples-or ndarrays with different lengths or shapes) is deprecated. If you meant to do this, you must specify 'dtype=object' when creating the ndarray.\n",
      "  specs = np.array([[1, 2, 3, 4], [1, 2, 3], [1, 2]])\n",
      "<ipython-input-3-eb58ad143722>:3: VisibleDeprecationWarning: Creating an ndarray from ragged nested sequences (which is a list-or-tuple of lists-or-tuples-or ndarrays with different lengths or shapes) is deprecated. If you meant to do this, you must specify 'dtype=object' when creating the ndarray.\n",
      "  names = np.array([['r1', 'r2', 'r3', 'r4'], ['a1', 'a2', 'a3'], ['d1', 'd2']])\n",
      "<ipython-input-3-eb58ad143722>:4: VisibleDeprecationWarning: Creating an ndarray from ragged nested sequences (which is a list-or-tuple of lists-or-tuples-or ndarrays with different lengths or shapes) is deprecated. If you meant to do this, you must specify 'dtype=object' when creating the ndarray.\n",
      "  vals = np.array([[0.96897556, 1.45491931, 1.45878406, 1.17072885],\n"
     ]
    }
   ],
   "source": [
    "atoms = ['H', 'O', 'O', 'N', 'O']\n",
    "specs = np.array([[1, 2, 3, 4], [1, 2, 3], [1, 2]])\n",
    "names = np.array([['r1', 'r2', 'r3', 'r4'], ['a1', 'a2', 'a3'], ['d1', 'd2']])\n",
    "vals = np.array([[0.96897556, 1.45491931, 1.45878406, 1.17072885],\n",
    "                 [97.59494903, 102.29752444, 109.06955123],\n",
    "                 [180., 180.]])\n",
    "units = [\"Angstroms\", \"Degrees\"]\n",
    "hoono_eq = misc.zmat(atoms=atoms, easy_build_dict={'specs':specs, 'names':names, 'vals':vals, 'units':units})"
   ]
  },
  {
   "cell_type": "code",
   "execution_count": 4,
   "id": "4121f09d-462a-47e3-b1e7-92c78657ba22",
   "metadata": {},
   "outputs": [],
   "source": [
    "hoono_eq_log = gt.GLogInterpreter(log_files='../mccoy_hoono/hoono_eq.log')\n",
    "hoono_eq_log.pull_forces()"
   ]
  },
  {
   "cell_type": "code",
   "execution_count": 5,
   "id": "8b44e0d4-a707-46cd-813d-4c82566a9606",
   "metadata": {},
   "outputs": [],
   "source": [
    "forces = misc.convert_force_units(eq_zmat=hoono_eq, force_constants=hoono_eq_log.force_constants)"
   ]
  },
  {
   "cell_type": "code",
   "execution_count": 6,
   "id": "507ec789-9e13-4348-8bdf-7ccf6f8197fc",
   "metadata": {},
   "outputs": [
    {
     "name": "stdout",
     "output_type": "stream",
     "text": [
      "401567.88622114423\n",
      "220493.89272176367\n",
      "91863.50739534566\n",
      "636473.5235528407\n",
      "14.49119433185497\n",
      "18.902206034701653\n",
      "32.26975500462167\n",
      "-0.5193839588368713\n",
      "2.7477397841878695\n"
     ]
    }
   ],
   "source": [
    "for i in range(len(forces)):\n",
    "    print(forces[i][i])"
   ]
  },
  {
   "cell_type": "markdown",
   "id": "4864852a-bfa9-4ba3-b9ac-5a57b977384b",
   "metadata": {},
   "source": [
    "## 20 cm displacements"
   ]
  },
  {
   "cell_type": "code",
   "execution_count": 8,
   "id": "6ac30fe1-64c0-49b7-b3df-fa9506df6da8",
   "metadata": {},
   "outputs": [],
   "source": [
    "params = {\n",
    "                'header': f'%nproc=28\\n%mem=120GB\\n%chk=',\n",
    "                'job': '#p SP Freq mp2/aug-cc-pvtz density=current\\n\\n',\n",
    "                'description': 'title\\n\\n',\n",
    "                'charge': '0 1\\n',\n",
    "                'molecule': '',\n",
    "                'variables': 'Variables\\n',\n",
    "                'vars': '',\n",
    "                'whitespace': '\\n'*10}"
   ]
  },
  {
   "cell_type": "code",
   "execution_count": 11,
   "id": "36c30181-8926-4cbe-81e8-ed457199dd51",
   "metadata": {},
   "outputs": [],
   "source": [
    "misc.write_displaced_zmats(eq_zmat=hoono_eq,\n",
    "                           disp_en=20,\n",
    "                           force_constants=hoono_eq_log.force_constants,\n",
    "                           fname_base='hoono',\n",
    "                           fchks=True,\n",
    "                           params=params,\n",
    "                           job_file_path='../mccoy_hoono/20cm_disp/')"
   ]
  },
  {
   "cell_type": "code",
   "execution_count": 7,
   "id": "e52ae611-0bb4-4e9c-b099-b65cb4a213ad",
   "metadata": {},
   "outputs": [],
   "source": [
    "files=['../mccoy_hoono/20cm_disp/hoono_r3_1p437917',\n",
    "       '../mccoy_hoono/20cm_disp/hoono_a2_100p8428',\n",
    "       '../mccoy_hoono/20cm_disp/hoono_d1_188p7757',\n",
    "       '../mccoy_hoono/20cm_disp/hoono_a3_110p1829',\n",
    "       '../mccoy_hoono/20cm_disp/hoono_r4_1p162801',\n",
    "       '../mccoy_hoono/20cm_disp/hoono_r4_1p178656',\n",
    "       '../mccoy_hoono/20cm_disp/hoono_a1_99p25636',\n",
    "       '../mccoy_hoono/20cm_disp/hoono_d1_171p2242',\n",
    "       '../mccoy_hoono/20cm_disp/hoono_a2_103p7522',\n",
    "       '../mccoy_hoono/20cm_disp/hoono_r1_0p958995',\n",
    "       '../mccoy_hoono/20cm_disp/hoono_r1_0p978956',\n",
    "       '../mccoy_hoono/20cm_disp/hoono_a3_107p9562',\n",
    "       '../mccoy_hoono/20cm_disp/hoono_r3_1p479650',\n",
    "       '../mccoy_hoono/20cm_disp/hoono_a1_95p93353',\n",
    "       '../mccoy_hoono/20cm_disp/hoono_r2_1p441450',\n",
    "       '../mccoy_hoono/20cm_disp/hoono_r2_1p468388']"
   ]
  },
  {
   "cell_type": "code",
   "execution_count": 9,
   "id": "468c7471-1554-412f-9439-2237c59fd9c0",
   "metadata": {},
   "outputs": [],
   "source": [
    "hoono_eq_energy = -280.4467347"
   ]
  },
  {
   "cell_type": "code",
   "execution_count": 10,
   "id": "e2aaa87c-4c06-4126-9143-6337c410f8a8",
   "metadata": {},
   "outputs": [],
   "source": [
    "results = misc.pull_displaced_results(eq_zmat=hoono_eq,\n",
    "                                          eq_energy=hoono_eq_energy,\n",
    "                                          files=files,\n",
    "                                          sec_der=True)"
   ]
  },
  {
   "cell_type": "code",
   "execution_count": 11,
   "id": "9e838b9b-dfe9-4b2b-9192-b0ef5d38b6b5",
   "metadata": {},
   "outputs": [
    {
     "data": {
      "text/plain": [
       "{'r3': {'filenames': ['../mccoy_hoono/explore_disps/hoono_r3_1p437917',\n",
       "   '../mccoy_hoono/explore_disps/hoono_r3_1p479650'],\n",
       "  'disp_vals': [-0.02086405999999985, 0.02086593999999997],\n",
       "  'disp_units': ['Angstroms', 'Angstroms'],\n",
       "  'disp_energies': [20.33404849615159, 19.738964185233865],\n",
       "  '2nd_der': 92056.47645813132},\n",
       " 'a2': {'filenames': ['../mccoy_hoono/explore_disps/hoono_a2_100p8428',\n",
       "   '../mccoy_hoono/explore_disps/hoono_a2_103p7522'],\n",
       "  'disp_vals': [-1.4547044400000004, 1.4547055599999936],\n",
       "  'disp_units': ['Degrees', 'Degrees'],\n",
       "  'disp_energies': [20.15277258929681, 19.84383383634404],\n",
       "  '2nd_der': 18.90051403319394},\n",
       " 'd1': {'filenames': ['../mccoy_hoono/explore_disps/hoono_d1_188p7757',\n",
       "   '../mccoy_hoono/explore_disps/hoono_d1_171p2242'],\n",
       "  'disp_vals': [8.775779999999997, -8.775779999999997],\n",
       "  'disp_units': ['Degrees', 'Degrees'],\n",
       "  'disp_energies': [-19.81224284827506, -19.81224278589662],\n",
       "  '2nd_der': -0.5145080604255593},\n",
       " 'a3': {'filenames': ['../mccoy_hoono/explore_disps/hoono_a3_110p1829',\n",
       "   '../mccoy_hoono/explore_disps/hoono_a3_107p9562'],\n",
       "  'disp_vals': [1.1133487700000018, -1.1133512300000064],\n",
       "  'disp_units': ['Degrees', 'Degrees'],\n",
       "  'disp_energies': [19.990700933769396, 19.99040472349972],\n",
       "  '2nd_der': 32.25464993765329},\n",
       " 'r4': {'filenames': ['../mccoy_hoono/explore_disps/hoono_r4_1p162801',\n",
       "   '../mccoy_hoono/explore_disps/hoono_r4_1p178656'],\n",
       "  'disp_vals': [-0.007928849999999876, 0.007931150000000109],\n",
       "  'disp_units': ['Angstroms', 'Angstroms'],\n",
       "  'disp_energies': [21.67033319144641, 18.31555882605577],\n",
       "  '2nd_der': 636042.8650145223},\n",
       " 'a1': {'filenames': ['../mccoy_hoono/explore_disps/hoono_a1_99p25636',\n",
       "   '../mccoy_hoono/explore_disps/hoono_a1_95p93353'],\n",
       "  'disp_vals': [1.6614109700000057, -1.6614190299999905],\n",
       "  'disp_units': ['Degrees', 'Degrees'],\n",
       "  'disp_energies': [20.622296469601384, 19.352340094107603],\n",
       "  '2nd_der': 14.482061137200594},\n",
       " 'r1': {'filenames': ['../mccoy_hoono/explore_disps/hoono_r1_0p958995',\n",
       "   '../mccoy_hoono/explore_disps/hoono_r1_0p978956'],\n",
       "  'disp_vals': [-0.009975559999999994, 0.009984440000000094],\n",
       "  'disp_units': ['Angstroms', 'Angstroms'],\n",
       "  'disp_energies': [20.441861274436494, 19.54700854017848],\n",
       "  '2nd_der': 401850.5432938236},\n",
       " 'r2': {'filenames': ['../mccoy_hoono/explore_disps/hoono_r2_1p441450',\n",
       "   '../mccoy_hoono/explore_disps/hoono_r2_1p468388'],\n",
       "  'disp_vals': [-0.013469310000000068, 0.013470690000000118],\n",
       "  'disp_units': ['Angstroms', 'Angstroms'],\n",
       "  'disp_energies': [19.142064187577798, 20.849367746688177],\n",
       "  '2nd_der': 220432.82064213356}}"
      ]
     },
     "execution_count": 11,
     "metadata": {},
     "output_type": "execute_result"
    }
   ],
   "source": [
    "results"
   ]
  },
  {
   "cell_type": "markdown",
   "id": "5975d4b0-a399-4dc2-84e1-db03ab9c7a76",
   "metadata": {},
   "source": [
    "## 10 cm-1 displacements"
   ]
  },
  {
   "cell_type": "code",
   "execution_count": 14,
   "id": "e40cd08b-fb59-4e4e-adaa-0e7f3e54cb84",
   "metadata": {},
   "outputs": [],
   "source": [
    "params = {\n",
    "                'header': f'%nproc=28\\n%mem=120GB\\n%chk=',\n",
    "                'job': '#p SP mp2/aug-cc-pvtz density=current\\n\\n',\n",
    "                'description': 'title\\n\\n',\n",
    "                'charge': '0 1\\n',\n",
    "                'molecule': '',\n",
    "                'variables': 'Variables\\n',\n",
    "                'vars': '',\n",
    "                'whitespace': '\\n'*10}"
   ]
  },
  {
   "cell_type": "code",
   "execution_count": 15,
   "id": "db85b620-3693-47a6-b218-31da7a33ee60",
   "metadata": {},
   "outputs": [],
   "source": [
    "misc.write_displaced_zmats(eq_zmat=hoono_eq,\n",
    "                           disp_en=10,\n",
    "                           force_constants=hoono_eq_log.force_constants,\n",
    "                           fname_base='hoono',\n",
    "                           params=params,\n",
    "                           job_file_path='../mccoy_hoono/10cm_disp/')"
   ]
  },
  {
   "cell_type": "code",
   "execution_count": null,
   "id": "1aa41c58-ba50-484d-80b6-3ff9be602a85",
   "metadata": {},
   "outputs": [],
   "source": [
    "[os.path.splitext(val)[0] for val in glob.glob(\"../mccoy_hoono/10cm_disp/*.gjf\")]"
   ]
  },
  {
   "cell_type": "code",
   "execution_count": 19,
   "id": "640a1c26-c7cc-4e55-a371-437df7d1d532",
   "metadata": {},
   "outputs": [],
   "source": [
    "files_10_cm = ['../mccoy_hoono/10cm_disp/hoono_r4_1p165123',\n",
    "         '../mccoy_hoono/10cm_disp/hoono_r1_0p976032',\n",
    "         '../mccoy_hoono/10cm_disp/hoono_a2_103p3261',\n",
    "         '../mccoy_hoono/10cm_disp/hoono_a2_101p2688',\n",
    "         '../mccoy_hoono/10cm_disp/hoono_r2_1p464443',\n",
    "         '../mccoy_hoono/10cm_disp/hoono_r3_1p473539',\n",
    "         '../mccoy_hoono/10cm_disp/hoono_r1_0p961918',\n",
    "         '../mccoy_hoono/10cm_disp/hoono_a3_109p8568',\n",
    "         '../mccoy_hoono/10cm_disp/hoono_d1_186p2054',\n",
    "         '../mccoy_hoono/10cm_disp/hoono_d1_173p7945',\n",
    "         '../mccoy_hoono/10cm_disp/hoono_a1_96p42015',\n",
    "         '../mccoy_hoono/10cm_disp/hoono_r4_1p176334',\n",
    "         '../mccoy_hoono/10cm_disp/hoono_r3_1p444028',\n",
    "         '../mccoy_hoono/10cm_disp/hoono_a1_98p76974',\n",
    "         '../mccoy_hoono/10cm_disp/hoono_r2_1p445395',\n",
    "         '../mccoy_hoono/10cm_disp/hoono_a3_108p2822']"
   ]
  },
  {
   "cell_type": "code",
   "execution_count": 20,
   "id": "0579b2d8-910d-48fa-b3d9-bd15ef726886",
   "metadata": {},
   "outputs": [],
   "source": [
    "results_10_cm = misc.pull_displaced_results(eq_zmat=hoono_eq,\n",
    "                                          eq_energy=hoono_eq_energy,\n",
    "                                          files=files_10_cm,\n",
    "                                          sec_der=True)"
   ]
  },
  {
   "cell_type": "code",
   "execution_count": 21,
   "id": "90d9ec0e-da62-4374-9321-bc66da532fb6",
   "metadata": {
    "tags": []
   },
   "outputs": [
    {
     "data": {
      "text/plain": [
       "{'r4': {'filenames': ['../mccoy_hoono/10cm_disp/hoono_r4_1p165123',\n",
       "   '../mccoy_hoono/10cm_disp/hoono_r4_1p176334'],\n",
       "  'disp_vals': [-0.0056088499999999986, 0.005601150000000166],\n",
       "  'disp_units': ['Angstroms', 'Angstroms'],\n",
       "  'disp_energies': [11.024968119803177, 8.952491230579763],\n",
       "  '2nd_der': 635027.6045049384},\n",
       " 'r1': {'filenames': ['../mccoy_hoono/10cm_disp/hoono_r1_0p976032',\n",
       "   '../mccoy_hoono/10cm_disp/hoono_r1_0p961918'],\n",
       "  'disp_vals': [0.007054439999999995, -0.007055559999999961],\n",
       "  'disp_units': ['Angstroms', 'Angstroms'],\n",
       "  'disp_energies': [9.834038867721675, 10.14416348475961],\n",
       "  '2nd_der': 401449.86813368637},\n",
       " 'a2': {'filenames': ['../mccoy_hoono/10cm_disp/hoono_a2_103p3261',\n",
       "   '../mccoy_hoono/10cm_disp/hoono_a2_101p2688'],\n",
       "  'disp_vals': [1.0286255599999947, -1.0286244400000015],\n",
       "  'disp_units': ['Degrees', 'Degrees'],\n",
       "  'disp_energies': [10.04520805849229, 9.934914190152544],\n",
       "  '2nd_der': 18.8835445677722},\n",
       " 'r2': {'filenames': ['../mccoy_hoono/10cm_disp/hoono_r2_1p464443',\n",
       "   '../mccoy_hoono/10cm_disp/hoono_r2_1p445395'],\n",
       "  'disp_vals': [0.009520689999999998, -0.009519309999999948],\n",
       "  'disp_units': ['Angstroms', 'Angstroms'],\n",
       "  'disp_energies': [10.778065563290033, 9.200785425182538],\n",
       "  '2nd_der': 220411.199877252},\n",
       " 'r3': {'filenames': ['../mccoy_hoono/10cm_disp/hoono_r3_1p473539',\n",
       "   '../mccoy_hoono/10cm_disp/hoono_r3_1p444028'],\n",
       "  'disp_vals': [0.014755940000000134, -0.014754060000000013],\n",
       "  'disp_units': ['Angstroms', 'Angstroms'],\n",
       "  'disp_energies': [10.169208516552226, 9.830013462102565],\n",
       "  '2nd_der': 91850.03783154364},\n",
       " 'a3': {'filenames': ['../mccoy_hoono/10cm_disp/hoono_a3_109p8568',\n",
       "   '../mccoy_hoono/10cm_disp/hoono_a3_108p2822'],\n",
       "  'disp_vals': [0.787258769999994, -0.7872612299999986],\n",
       "  'disp_units': ['Degrees', 'Degrees'],\n",
       "  'disp_energies': [10.06267465851226, 9.913552505554488],\n",
       "  '2nd_der': 32.23134682225451},\n",
       " 'd1': {'filenames': ['../mccoy_hoono/10cm_disp/hoono_d1_186p2054',\n",
       "   '../mccoy_hoono/10cm_disp/hoono_d1_173p7945'],\n",
       "  'disp_vals': [6.2054100000000005, -6.2054100000000005],\n",
       "  'disp_units': ['Degrees', 'Degrees'],\n",
       "  'disp_energies': [-9.963656691618992, -9.963656928657072],\n",
       "  '2nd_der': -0.5174969487204903},\n",
       " 'a1': {'filenames': ['../mccoy_hoono/10cm_disp/hoono_a1_96p42015',\n",
       "   '../mccoy_hoono/10cm_disp/hoono_a1_98p76974'],\n",
       "  'disp_vals': [-1.1747990299999884, 1.1748009700000068],\n",
       "  'disp_units': ['Degrees', 'Degrees'],\n",
       "  'disp_energies': [9.484773786914891, 10.489854093704496],\n",
       "  '2nd_der': 14.472765947846488}}"
      ]
     },
     "execution_count": 21,
     "metadata": {},
     "output_type": "execute_result"
    }
   ],
   "source": [
    "results_10_cm"
   ]
  },
  {
   "cell_type": "markdown",
   "id": "c058f8a4-8c9d-4637-ac75-207fa2d10a87",
   "metadata": {},
   "source": [
    "## 30 cm-1 displacements"
   ]
  },
  {
   "cell_type": "code",
   "execution_count": 22,
   "id": "bed600b3-1ec7-411f-87e6-4ccfd8d9e50c",
   "metadata": {},
   "outputs": [],
   "source": [
    "params = {\n",
    "                'header': f'%nproc=28\\n%mem=120GB\\n%chk=',\n",
    "                'job': '#p SP mp2/aug-cc-pvtz density=current\\n\\n',\n",
    "                'description': 'title\\n\\n',\n",
    "                'charge': '0 1\\n',\n",
    "                'molecule': '',\n",
    "                'variables': 'Variables\\n',\n",
    "                'vars': '',\n",
    "                'whitespace': '\\n'*10}"
   ]
  },
  {
   "cell_type": "code",
   "execution_count": 23,
   "id": "7de3c3a9-a698-4743-bf0f-b697879cf12f",
   "metadata": {},
   "outputs": [],
   "source": [
    "misc.write_displaced_zmats(eq_zmat=hoono_eq,\n",
    "                           disp_en=30,\n",
    "                           force_constants=hoono_eq_log.force_constants,\n",
    "                           fname_base='hoono',\n",
    "                           params=params,\n",
    "                           job_file_path='../mccoy_hoono/30cm_disp/')"
   ]
  },
  {
   "cell_type": "code",
   "execution_count": null,
   "id": "741622a5-45b9-437d-968e-58a6896ede48",
   "metadata": {},
   "outputs": [],
   "source": [
    "[os.path.splitext(val)[0] for val in glob.glob(\"../mccoy_hoono/30cm_disp/*.gjf\")]"
   ]
  },
  {
   "cell_type": "code",
   "execution_count": 25,
   "id": "af591396-4337-452e-9f13-ee18b0b8e48b",
   "metadata": {},
   "outputs": [],
   "source": [
    "files_30_cm = ['../mccoy_hoono/30cm_disp/hoono_a1_95p56014',\n",
    "             '../mccoy_hoono/30cm_disp/hoono_r3_1p433227',\n",
    "             '../mccoy_hoono/30cm_disp/hoono_r2_1p471415',\n",
    "             '../mccoy_hoono/30cm_disp/hoono_r4_1p161019',\n",
    "             '../mccoy_hoono/30cm_disp/hoono_r1_0p956752',\n",
    "             '../mccoy_hoono/30cm_disp/hoono_a2_104p0791',\n",
    "             '../mccoy_hoono/30cm_disp/hoono_d1_169p2519',\n",
    "             '../mccoy_hoono/30cm_disp/hoono_a3_107p7059',\n",
    "             '../mccoy_hoono/30cm_disp/hoono_d1_190p7480',\n",
    "             '../mccoy_hoono/30cm_disp/hoono_r3_1p484340',\n",
    "             '../mccoy_hoono/30cm_disp/hoono_a1_99p62975',\n",
    "             '../mccoy_hoono/30cm_disp/hoono_r1_0p981199',\n",
    "             '../mccoy_hoono/30cm_disp/hoono_a2_100p5158',\n",
    "             '../mccoy_hoono/30cm_disp/hoono_a3_110p4331',\n",
    "             '../mccoy_hoono/30cm_disp/hoono_r4_1p180438',\n",
    "             '../mccoy_hoono/30cm_disp/hoono_r2_1p438423']"
   ]
  },
  {
   "cell_type": "code",
   "execution_count": 26,
   "id": "9fa6ea0e-6bdd-411c-877c-a2435e42d83b",
   "metadata": {},
   "outputs": [],
   "source": [
    "results_30_cm = misc.pull_displaced_results(eq_zmat=hoono_eq,\n",
    "                                          eq_energy=hoono_eq_energy,\n",
    "                                          files=files_30_cm,\n",
    "                                          sec_der=True)"
   ]
  },
  {
   "cell_type": "code",
   "execution_count": 27,
   "id": "02f1eb55-ad5c-4d0e-bf77-e97893856315",
   "metadata": {
    "tags": []
   },
   "outputs": [
    {
     "data": {
      "text/plain": [
       "{'a1': {'filenames': ['../mccoy_hoono/30cm_disp/hoono_a1_95p56014',\n",
       "   '../mccoy_hoono/30cm_disp/hoono_a1_99p62975'],\n",
       "  'disp_vals': [-2.034809029999991, 2.0348109700000094],\n",
       "  'disp_units': ['Degrees', 'Degrees'],\n",
       "  'disp_energies': [29.30239909629045, 30.672280471126925],\n",
       "  '2nd_der': 14.485070849821826},\n",
       " 'r3': {'filenames': ['../mccoy_hoono/30cm_disp/hoono_r3_1p433227',\n",
       "   '../mccoy_hoono/30cm_disp/hoono_r3_1p484340'],\n",
       "  'disp_vals': [-0.025554059999999934, 0.025555940000000055],\n",
       "  'disp_units': ['Angstroms', 'Angstroms'],\n",
       "  'disp_energies': [31.12145520617967, 29.074596718912044],\n",
       "  '2nd_der': 92182.43754275811},\n",
       " 'r2': {'filenames': ['../mccoy_hoono/30cm_disp/hoono_r2_1p471415',\n",
       "   '../mccoy_hoono/30cm_disp/hoono_r2_1p438423'],\n",
       "  'disp_vals': [0.016500689999999985, -0.016499309999999934],\n",
       "  'disp_units': ['Angstroms', 'Angstroms'],\n",
       "  'disp_energies': [30.73116987477869, 29.2812280901139],\n",
       "  '2nd_der': 220412.77892003},\n",
       " 'r4': {'filenames': ['../mccoy_hoono/30cm_disp/hoono_r4_1p161019',\n",
       "   '../mccoy_hoono/30cm_disp/hoono_r4_1p180438'],\n",
       "  'disp_vals': [-0.009708849999999991, 0.009711150000000002],\n",
       "  'disp_units': ['Angstroms', 'Angstroms'],\n",
       "  'disp_energies': [32.313926303639136, 27.68602466693687],\n",
       "  '2nd_der': 636524.7760396015},\n",
       " 'r1': {'filenames': ['../mccoy_hoono/30cm_disp/hoono_r1_0p956752',\n",
       "   '../mccoy_hoono/30cm_disp/hoono_r1_0p981199'],\n",
       "  'disp_vals': [-0.012225559999999969, 0.012224440000000003],\n",
       "  'disp_units': ['Angstroms', 'Angstroms'],\n",
       "  'disp_energies': [30.830777979160334, 29.175879958926522],\n",
       "  '2nd_der': 401478.15222133335},\n",
       " 'a2': {'filenames': ['../mccoy_hoono/30cm_disp/hoono_a2_104p0791',\n",
       "   '../mccoy_hoono/30cm_disp/hoono_a2_100p5158'],\n",
       "  'disp_vals': [1.781635559999998, -1.7816344400000048],\n",
       "  'disp_units': ['Degrees', 'Degrees'],\n",
       "  'disp_energies': [29.53799847950227, 30.486115254658404],\n",
       "  '2nd_der': 18.909846861488166},\n",
       " 'd1': {'filenames': ['../mccoy_hoono/30cm_disp/hoono_d1_169p2519',\n",
       "   '../mccoy_hoono/30cm_disp/hoono_d1_190p7480'],\n",
       "  'disp_vals': [-10.74808999999999, 10.74808999999999],\n",
       "  'disp_units': ['Degrees', 'Degrees'],\n",
       "  'disp_energies': [-29.561636914854866, -29.56163680257367],\n",
       "  '2nd_der': -0.5117948184278525},\n",
       " 'a3': {'filenames': ['../mccoy_hoono/30cm_disp/hoono_a3_107p7059',\n",
       "   '../mccoy_hoono/30cm_disp/hoono_a3_110p4331'],\n",
       "  'disp_vals': [-1.3635712300000051, 1.3635687700000005],\n",
       "  'disp_units': ['Degrees', 'Degrees'],\n",
       "  'disp_energies': [30.123450348833497, 29.865837675818494],\n",
       "  '2nd_der': 32.26398808803178}}"
      ]
     },
     "execution_count": 27,
     "metadata": {},
     "output_type": "execute_result"
    }
   ],
   "source": [
    "results_30_cm"
   ]
  },
  {
   "cell_type": "markdown",
   "id": "8d1b6fa8-dc30-41ab-898a-bf8c69805f80",
   "metadata": {},
   "source": [
    "## 5 cm-1 displacements"
   ]
  },
  {
   "cell_type": "code",
   "execution_count": 8,
   "id": "fe84c9eb-d6c5-49f2-8d5a-a9c74f913645",
   "metadata": {},
   "outputs": [],
   "source": [
    "sbatch_params = '#SBATCH --job-name=hoono\\n#SBATCH --ntasks=28\\n#SBATCH --nodes=1 \\n#SBATCH --time=3:00:00\\n#SBATCH --mem=120G\\n#SBATCH --chdir=/gscratch/ilahie/mccoygrp/coire_hoono/5cm_disp/\\n#SBATCH --partition=ilahie\\n#SBATCH --account=ilahie\\n'"
   ]
  },
  {
   "cell_type": "code",
   "execution_count": 9,
   "id": "1f85ac3d-52d7-435e-83b1-23f3fc34b7db",
   "metadata": {},
   "outputs": [],
   "source": [
    "misc.write_displaced_zmats(eq_zmat=hoono_eq,\n",
    "                           disp_en=5,\n",
    "                           force_constants=hoono_eq_log.force_constants,\n",
    "                           fname_base='hoono',\n",
    "                           sbatch_params = sbatch_params,\n",
    "                           fchks=True,\n",
    "                           params=params,\n",
    "                           job_file_path='../mccoy_hoono/5cm_disp/')"
   ]
  },
  {
   "cell_type": "markdown",
   "id": "93a36ca7-6ebc-4d4e-8528-fe85b6a0f455",
   "metadata": {},
   "source": [
    "## 15 cm-1 displacements"
   ]
  },
  {
   "cell_type": "code",
   "execution_count": 11,
   "id": "a7b604e5-48ed-44d1-a425-dd1b9f4cb080",
   "metadata": {},
   "outputs": [],
   "source": [
    "sbatch_params = '#SBATCH --job-name=hoono\\n#SBATCH --ntasks=28\\n#SBATCH --nodes=1 \\n#SBATCH --time=3:00:00\\n#SBATCH --mem=120G\\n#SBATCH --chdir=/gscratch/ilahie/mccoygrp/coire_hoono/15cm_disp/\\n#SBATCH --partition=ilahie\\n#SBATCH --account=ilahie\\n'"
   ]
  },
  {
   "cell_type": "code",
   "execution_count": 12,
   "id": "f9773b35-2b9d-4d0b-b3c0-84562f06023e",
   "metadata": {},
   "outputs": [],
   "source": [
    "misc.write_displaced_zmats(eq_zmat=hoono_eq,\n",
    "                           disp_en=15,\n",
    "                           force_constants=hoono_eq_log.force_constants,\n",
    "                           fname_base='hoono',\n",
    "                           sbatch_params = sbatch_params,\n",
    "                           fchks=True,\n",
    "                           params=params,\n",
    "                           job_file_path='../mccoy_hoono/15cm_disp/')"
   ]
  },
  {
   "cell_type": "markdown",
   "id": "710528c1-6f5b-4725-885b-a077901f42cf",
   "metadata": {},
   "source": [
    "## 25 cm-1 displacements"
   ]
  },
  {
   "cell_type": "code",
   "execution_count": 13,
   "id": "d2ba0a3a-8011-4366-901e-9b3aae2d4e1e",
   "metadata": {},
   "outputs": [],
   "source": [
    "sbatch_params = '#SBATCH --job-name=hoono\\n#SBATCH --ntasks=28\\n#SBATCH --nodes=1 \\n#SBATCH --time=3:00:00\\n#SBATCH --mem=120G\\n#SBATCH --chdir=/gscratch/ilahie/mccoygrp/coire_hoono/25cm_disp/\\n#SBATCH --partition=ilahie\\n#SBATCH --account=ilahie\\n'"
   ]
  },
  {
   "cell_type": "code",
   "execution_count": 14,
   "id": "1594ebb7-d8d3-4ece-800f-282d7154b9db",
   "metadata": {},
   "outputs": [],
   "source": [
    "misc.write_displaced_zmats(eq_zmat=hoono_eq,\n",
    "                           disp_en=25,\n",
    "                           force_constants=hoono_eq_log.force_constants,\n",
    "                           fname_base='hoono',\n",
    "                           sbatch_params = sbatch_params,\n",
    "                           fchks=True,\n",
    "                           params=params,\n",
    "                           job_file_path='../mccoy_hoono/25cm_disp/')"
   ]
  },
  {
   "cell_type": "markdown",
   "id": "235a9131-a31f-48a0-b8b0-358e44fbf15f",
   "metadata": {},
   "source": [
    "## 35 cm-1 displacements"
   ]
  },
  {
   "cell_type": "code",
   "execution_count": 15,
   "id": "fb6de712-5aa5-4f05-ab72-7847c38cb580",
   "metadata": {},
   "outputs": [],
   "source": [
    "sbatch_params = '#SBATCH --job-name=hoono\\n#SBATCH --ntasks=28\\n#SBATCH --nodes=1 \\n#SBATCH --time=3:00:00\\n#SBATCH --mem=120G\\n#SBATCH --chdir=/gscratch/ilahie/mccoygrp/coire_hoono/35cm_disp/\\n#SBATCH --partition=ilahie\\n#SBATCH --account=ilahie\\n'"
   ]
  },
  {
   "cell_type": "code",
   "execution_count": 16,
   "id": "9103d4bf-befc-49a3-8aa0-36af347fd13e",
   "metadata": {},
   "outputs": [],
   "source": [
    "misc.write_displaced_zmats(eq_zmat=hoono_eq,\n",
    "                           disp_en=35,\n",
    "                           force_constants=hoono_eq_log.force_constants,\n",
    "                           fname_base='hoono',\n",
    "                           sbatch_params = sbatch_params,\n",
    "                           fchks=True,\n",
    "                           params=params,\n",
    "                           job_file_path='../mccoy_hoono/35cm_disp/')"
   ]
  },
  {
   "cell_type": "markdown",
   "id": "fc4ea2f0-a1a6-4465-8bcc-536d672554dc",
   "metadata": {},
   "source": [
    "## 40cm-1 displacements"
   ]
  },
  {
   "cell_type": "code",
   "execution_count": 17,
   "id": "aeff8d6d-dd8a-4f5e-b849-bda860bdbefc",
   "metadata": {},
   "outputs": [],
   "source": [
    "sbatch_params = '#SBATCH --job-name=hoono\\n#SBATCH --ntasks=28\\n#SBATCH --nodes=1 \\n#SBATCH --time=3:00:00\\n#SBATCH --mem=120G\\n#SBATCH --chdir=/gscratch/ilahie/mccoygrp/coire_hoono/40cm_disp/\\n#SBATCH --partition=ilahie\\n#SBATCH --account=ilahie\\n'"
   ]
  },
  {
   "cell_type": "code",
   "execution_count": 18,
   "id": "a3c962fc-51df-4af9-b4c1-daa23b334f27",
   "metadata": {},
   "outputs": [],
   "source": [
    "misc.write_displaced_zmats(eq_zmat=hoono_eq,\n",
    "                           disp_en=40,\n",
    "                           force_constants=hoono_eq_log.force_constants,\n",
    "                           fname_base='hoono',\n",
    "                           sbatch_params = sbatch_params,\n",
    "                           fchks=True,\n",
    "                           params=params,\n",
    "                           job_file_path='../mccoy_hoono/40cm_disp/')"
   ]
  },
  {
   "cell_type": "markdown",
   "id": "bb1a6f1c-8828-4bac-882b-c4c13e4b2066",
   "metadata": {},
   "source": [
    "## 45 cm-1 displacements"
   ]
  },
  {
   "cell_type": "code",
   "execution_count": 19,
   "id": "a27044b1-f420-4b04-a6e6-95a449efbd41",
   "metadata": {},
   "outputs": [],
   "source": [
    "sbatch_params = '#SBATCH --job-name=hoono\\n#SBATCH --ntasks=28\\n#SBATCH --nodes=1 \\n#SBATCH --time=3:00:00\\n#SBATCH --mem=120G\\n#SBATCH --chdir=/gscratch/ilahie/mccoygrp/coire_hoono/45cm_disp/\\n#SBATCH --partition=ilahie\\n#SBATCH --account=ilahie\\n'"
   ]
  },
  {
   "cell_type": "code",
   "execution_count": 20,
   "id": "7e2628e4-166d-4415-85b1-d1ead1d99d80",
   "metadata": {},
   "outputs": [],
   "source": [
    "misc.write_displaced_zmats(eq_zmat=hoono_eq,\n",
    "                           disp_en=45,\n",
    "                           force_constants=hoono_eq_log.force_constants,\n",
    "                           fname_base='hoono',\n",
    "                           sbatch_params = sbatch_params,\n",
    "                           fchks=True,\n",
    "                           params=params,\n",
    "                           job_file_path='../mccoy_hoono/45cm_disp/')"
   ]
  },
  {
   "cell_type": "markdown",
   "id": "7c4efd31-547d-45ce-9da2-9581fa50f975",
   "metadata": {},
   "source": [
    "## 50 cm-1 displacements"
   ]
  },
  {
   "cell_type": "code",
   "execution_count": 21,
   "id": "9159ded7-9388-428c-9ea0-8c41b62c506c",
   "metadata": {},
   "outputs": [],
   "source": [
    "sbatch_params = '#SBATCH --job-name=hoono\\n#SBATCH --ntasks=28\\n#SBATCH --nodes=1 \\n#SBATCH --time=3:00:00\\n#SBATCH --mem=120G\\n#SBATCH --chdir=/gscratch/ilahie/mccoygrp/coire_hoono/50cm_disp/\\n#SBATCH --partition=ilahie\\n#SBATCH --account=ilahie\\n'"
   ]
  },
  {
   "cell_type": "code",
   "execution_count": 22,
   "id": "fd9317e8-b44b-46ad-a92d-2eb487835a87",
   "metadata": {},
   "outputs": [],
   "source": [
    "misc.write_displaced_zmats(eq_zmat=hoono_eq,\n",
    "                           disp_en=50,\n",
    "                           force_constants=hoono_eq_log.force_constants,\n",
    "                           fname_base='hoono',\n",
    "                           sbatch_params = sbatch_params,\n",
    "                           fchks=True,\n",
    "                           params=params,\n",
    "                           job_file_path='../mccoy_hoono/50cm_disp/')"
   ]
  },
  {
   "cell_type": "markdown",
   "id": "77a5f7ff-61d9-43c4-9633-f20dbd95fb63",
   "metadata": {},
   "source": [
    "## Combined Results"
   ]
  },
  {
   "cell_type": "code",
   "execution_count": null,
   "id": "d1c23a4d-5f89-47dd-afe9-9a4ca70a684c",
   "metadata": {},
   "outputs": [],
   "source": [
    "files=['../mccoy_hoono/explore_disps/hoono_r3_1p437917',\n",
    "       '../mccoy_hoono/explore_disps/hoono_a2_100p8428',\n",
    "       '../mccoy_hoono/explore_disps/hoono_d1_188p7757',\n",
    "       '../mccoy_hoono/explore_disps/hoono_a3_110p1829',\n",
    "       '../mccoy_hoono/explore_disps/hoono_r4_1p162801',\n",
    "       '../mccoy_hoono/explore_disps/hoono_r4_1p178656',\n",
    "       '../mccoy_hoono/explore_disps/hoono_a1_99p25636',\n",
    "       '../mccoy_hoono/explore_disps/hoono_d1_171p2242',\n",
    "       '../mccoy_hoono/explore_disps/hoono_a2_103p7522',\n",
    "       '../mccoy_hoono/explore_disps/hoono_r1_0p958995',\n",
    "       '../mccoy_hoono/explore_disps/hoono_r1_0p978956',\n",
    "       '../mccoy_hoono/explore_disps/hoono_a3_107p9562',\n",
    "       '../mccoy_hoono/explore_disps/hoono_r3_1p479650',\n",
    "       '../mccoy_hoono/explore_disps/hoono_a1_95p93353',\n",
    "       '../mccoy_hoono/explore_disps/hoono_r2_1p441450',\n",
    "       '../mccoy_hoono/explore_disps/hoono_r2_1p468388',\n",
    "       '../mccoy_hoono/10cm_disp/hoono_r4_1p165123',\n",
    "         '../mccoy_hoono/10cm_disp/hoono_r1_0p976032',\n",
    "         '../mccoy_hoono/10cm_disp/hoono_a2_103p3261',\n",
    "         '../mccoy_hoono/10cm_disp/hoono_a2_101p2688',\n",
    "         '../mccoy_hoono/10cm_disp/hoono_r2_1p464443',\n",
    "         '../mccoy_hoono/10cm_disp/hoono_r3_1p473539',\n",
    "         '../mccoy_hoono/10cm_disp/hoono_r1_0p961918',\n",
    "         '../mccoy_hoono/10cm_disp/hoono_a3_109p8568',\n",
    "         '../mccoy_hoono/10cm_disp/hoono_d1_186p2054',\n",
    "         '../mccoy_hoono/10cm_disp/hoono_d1_173p7945',\n",
    "         '../mccoy_hoono/10cm_disp/hoono_a1_96p42015',\n",
    "         '../mccoy_hoono/10cm_disp/hoono_r4_1p176334',\n",
    "         '../mccoy_hoono/10cm_disp/hoono_r3_1p444028',\n",
    "         '../mccoy_hoono/10cm_disp/hoono_a1_98p76974',\n",
    "         '../mccoy_hoono/10cm_disp/hoono_r2_1p445395',\n",
    "         '../mccoy_hoono/10cm_disp/hoono_a3_108p2822',\n",
    "      ]"
   ]
  },
  {
   "cell_type": "code",
   "execution_count": null,
   "id": "30999486-4f8e-4326-92b8-b3492e71813d",
   "metadata": {},
   "outputs": [],
   "source": [
    "[os.path.splitext(val)[0] for val in glob.glob(\"../mccoy_hoono/*/*.gjf\")]"
   ]
  },
  {
   "cell_type": "code",
   "execution_count": 7,
   "id": "a4fee711-b6ce-49a2-a6ef-3b3001fda311",
   "metadata": {},
   "outputs": [],
   "source": [
    "files = ['../mccoy_hoono/30cm_disp/hoono_a1_95p56014',\n",
    "         '../mccoy_hoono/30cm_disp/hoono_r3_1p433227',\n",
    "         '../mccoy_hoono/30cm_disp/hoono_r2_1p471415',\n",
    "         '../mccoy_hoono/30cm_disp/hoono_r4_1p161019',\n",
    "         '../mccoy_hoono/30cm_disp/hoono_r1_0p956752',\n",
    "         '../mccoy_hoono/30cm_disp/hoono_a2_104p0791',\n",
    "         '../mccoy_hoono/30cm_disp/hoono_d1_169p2519',\n",
    "         '../mccoy_hoono/30cm_disp/hoono_a3_107p7059',\n",
    "         '../mccoy_hoono/30cm_disp/hoono_d1_190p7480',\n",
    "         '../mccoy_hoono/30cm_disp/hoono_r3_1p484340',\n",
    "         '../mccoy_hoono/30cm_disp/hoono_a1_99p62975',\n",
    "         '../mccoy_hoono/30cm_disp/hoono_r1_0p981199',\n",
    "         '../mccoy_hoono/30cm_disp/hoono_a2_100p5158',\n",
    "         '../mccoy_hoono/30cm_disp/hoono_a3_110p4331',\n",
    "         '../mccoy_hoono/30cm_disp/hoono_r4_1p180438',\n",
    "         '../mccoy_hoono/30cm_disp/hoono_r2_1p438423',\n",
    "         '../mccoy_hoono/5cm_disp/hoono_r1_0p963985',\n",
    "         '../mccoy_hoono/5cm_disp/hoono_d1_175p6121',\n",
    "         '../mccoy_hoono/5cm_disp/hoono_r4_1p166765',\n",
    "         '../mccoy_hoono/5cm_disp/hoono_r3_1p448350',\n",
    "         '../mccoy_hoono/5cm_disp/hoono_a1_98p42565',\n",
    "         '../mccoy_hoono/5cm_disp/hoono_a3_108p5128',\n",
    "         '../mccoy_hoono/5cm_disp/hoono_r3_1p469217',\n",
    "         '../mccoy_hoono/5cm_disp/hoono_r2_1p448184',\n",
    "         '../mccoy_hoono/5cm_disp/hoono_a1_96p76424',\n",
    "         '../mccoy_hoono/5cm_disp/hoono_r2_1p461653',\n",
    "         '../mccoy_hoono/5cm_disp/hoono_a2_103p0248',\n",
    "         '../mccoy_hoono/5cm_disp/hoono_r4_1p174692',\n",
    "         '../mccoy_hoono/5cm_disp/hoono_d1_184p3878',\n",
    "         '../mccoy_hoono/5cm_disp/hoono_a2_101p5701',\n",
    "         '../mccoy_hoono/5cm_disp/hoono_r1_0p973965',\n",
    "         '../mccoy_hoono/5cm_disp/hoono_a3_109p6262',\n",
    "         '../mccoy_hoono/45cm_disp/hoono_r3_1p427483',\n",
    "         '../mccoy_hoono/45cm_disp/hoono_a1_95p10282',\n",
    "         '../mccoy_hoono/45cm_disp/hoono_a3_110p7395',\n",
    "         '../mccoy_hoono/45cm_disp/hoono_a1_100p0870',\n",
    "         '../mccoy_hoono/45cm_disp/hoono_r4_1p182620',\n",
    "         '../mccoy_hoono/45cm_disp/hoono_a2_100p1154',\n",
    "         '../mccoy_hoono/45cm_disp/hoono_a2_104p4795',\n",
    "         '../mccoy_hoono/45cm_disp/hoono_d1_193p1636',\n",
    "         '../mccoy_hoono/45cm_disp/hoono_r4_1p158837',\n",
    "         '../mccoy_hoono/45cm_disp/hoono_r2_1p434715',\n",
    "         '../mccoy_hoono/45cm_disp/hoono_d1_166p8363',\n",
    "         '../mccoy_hoono/45cm_disp/hoono_a3_107p3995',\n",
    "         '../mccoy_hoono/45cm_disp/hoono_r1_0p954004',\n",
    "         '../mccoy_hoono/45cm_disp/hoono_r1_0p983946',\n",
    "         '../mccoy_hoono/45cm_disp/hoono_r3_1p490084',\n",
    "         '../mccoy_hoono/45cm_disp/hoono_r2_1p475122',\n",
    "         '../mccoy_hoono/explore_disps/hoono_r3_1p437917',\n",
    "         '../mccoy_hoono/explore_disps/hoono_a2_100p8428',\n",
    "         '../mccoy_hoono/explore_disps/hoono_d1_188p7757',\n",
    "         '../mccoy_hoono/explore_disps/hoono_a3_110p1829',\n",
    "         '../mccoy_hoono/explore_disps/hoono_r4_1p162801',\n",
    "         '../mccoy_hoono/explore_disps/hoono_a1_99p25636',\n",
    "         '../mccoy_hoono/explore_disps/hoono_d1_171p2242',\n",
    "         '../mccoy_hoono/explore_disps/hoono_a2_103p7522',\n",
    "         '../mccoy_hoono/explore_disps/hoono_r1_0p958995',\n",
    "         '../mccoy_hoono/explore_disps/hoono_r1_0p978956',\n",
    "         '../mccoy_hoono/explore_disps/hoono_a3_107p9562',\n",
    "         '../mccoy_hoono/explore_disps/hoono_r3_1p479650',\n",
    "         '../mccoy_hoono/explore_disps/hoono_a1_95p93353',\n",
    "         '../mccoy_hoono/explore_disps/hoono_r2_1p441450',\n",
    "         '../mccoy_hoono/explore_disps/hoono_r2_1p468388',\n",
    "         '../mccoy_hoono/10cm_disp/hoono_r4_1p165123',\n",
    "         '../mccoy_hoono/10cm_disp/hoono_r1_0p976032',\n",
    "         '../mccoy_hoono/10cm_disp/hoono_a2_103p3261',\n",
    "         '../mccoy_hoono/10cm_disp/hoono_a2_101p2688',\n",
    "         '../mccoy_hoono/10cm_disp/hoono_r2_1p464443',\n",
    "         '../mccoy_hoono/10cm_disp/hoono_r3_1p473539',\n",
    "         '../mccoy_hoono/10cm_disp/hoono_r1_0p961918',\n",
    "         '../mccoy_hoono/10cm_disp/hoono_a3_109p8568',\n",
    "         '../mccoy_hoono/10cm_disp/hoono_d1_186p2054',\n",
    "         '../mccoy_hoono/10cm_disp/hoono_d1_173p7945',\n",
    "         '../mccoy_hoono/10cm_disp/hoono_a1_96p42015',\n",
    "         '../mccoy_hoono/10cm_disp/hoono_r4_1p176334',\n",
    "         '../mccoy_hoono/10cm_disp/hoono_r3_1p444028',\n",
    "         '../mccoy_hoono/10cm_disp/hoono_a1_98p76974',\n",
    "         '../mccoy_hoono/10cm_disp/hoono_r2_1p445395',\n",
    "         '../mccoy_hoono/10cm_disp/hoono_a3_108p2822',\n",
    "         '../mccoy_hoono/40cm_disp/hoono_a1_95p24535',\n",
    "         '../mccoy_hoono/40cm_disp/hoono_r1_0p983090',\n",
    "         '../mccoy_hoono/40cm_disp/hoono_r2_1p435871',\n",
    "         '../mccoy_hoono/40cm_disp/hoono_a1_99p94454',\n",
    "         '../mccoy_hoono/40cm_disp/hoono_r1_0p954861',\n",
    "         '../mccoy_hoono/40cm_disp/hoono_a2_100p2402',\n",
    "         '../mccoy_hoono/40cm_disp/hoono_r4_1p181940',\n",
    "         '../mccoy_hoono/40cm_disp/hoono_a3_107p4950',\n",
    "         '../mccoy_hoono/40cm_disp/hoono_d1_167p5891',\n",
    "         '../mccoy_hoono/40cm_disp/hoono_d1_192p4108',\n",
    "         '../mccoy_hoono/40cm_disp/hoono_r4_1p159517',\n",
    "         '../mccoy_hoono/40cm_disp/hoono_r3_1p488294',\n",
    "         '../mccoy_hoono/40cm_disp/hoono_a2_104p3547',\n",
    "         '../mccoy_hoono/40cm_disp/hoono_a3_110p6440',\n",
    "         '../mccoy_hoono/40cm_disp/hoono_r2_1p473967',\n",
    "         '../mccoy_hoono/40cm_disp/hoono_r3_1p429273',\n",
    "         '../mccoy_hoono/15cm_disp/hoono_r2_1p466583',\n",
    "         '../mccoy_hoono/15cm_disp/hoono_a2_103p5573',\n",
    "         '../mccoy_hoono/15cm_disp/hoono_r1_0p960332',\n",
    "         '../mccoy_hoono/15cm_disp/hoono_a1_99p03377',\n",
    "         '../mccoy_hoono/15cm_disp/hoono_r4_1p163863',\n",
    "         '../mccoy_hoono/15cm_disp/hoono_r4_1p177594',\n",
    "         '../mccoy_hoono/15cm_disp/hoono_a2_101p0377',\n",
    "         '../mccoy_hoono/15cm_disp/hoono_a3_110p0337',\n",
    "         '../mccoy_hoono/15cm_disp/hoono_r3_1p440712',\n",
    "         '../mccoy_hoono/15cm_disp/hoono_r3_1p476855',\n",
    "         '../mccoy_hoono/15cm_disp/hoono_d1_187p6000',\n",
    "         '../mccoy_hoono/15cm_disp/hoono_a1_96p15612',\n",
    "         '../mccoy_hoono/15cm_disp/hoono_r1_0p977618',\n",
    "         '../mccoy_hoono/15cm_disp/hoono_d1_172p3999',\n",
    "         '../mccoy_hoono/15cm_disp/hoono_r2_1p443254',\n",
    "         '../mccoy_hoono/15cm_disp/hoono_a3_108p1053',\n",
    "         '../mccoy_hoono/50cm_disp/hoono_a2_99p99744',\n",
    "         '../mccoy_hoono/50cm_disp/hoono_r4_1p183263',\n",
    "         '../mccoy_hoono/50cm_disp/hoono_a3_110p8299',\n",
    "         '../mccoy_hoono/50cm_disp/hoono_d1_166p1242',\n",
    "         '../mccoy_hoono/50cm_disp/hoono_a3_107p3091',\n",
    "         '../mccoy_hoono/50cm_disp/hoono_r2_1p433623',\n",
    "         '../mccoy_hoono/50cm_disp/hoono_r3_1p425790',\n",
    "         '../mccoy_hoono/50cm_disp/hoono_a1_100p2218',\n",
    "         '../mccoy_hoono/50cm_disp/hoono_a1_94p96802',\n",
    "         '../mccoy_hoono/50cm_disp/hoono_a2_104p5976',\n",
    "         '../mccoy_hoono/50cm_disp/hoono_r1_0p984756',\n",
    "         '../mccoy_hoono/50cm_disp/hoono_r4_1p158194',\n",
    "         '../mccoy_hoono/50cm_disp/hoono_r3_1p491777',\n",
    "         '../mccoy_hoono/50cm_disp/hoono_r1_0p953195',\n",
    "         '../mccoy_hoono/50cm_disp/hoono_d1_193p8757',\n",
    "         '../mccoy_hoono/50cm_disp/hoono_r2_1p476215',\n",
    "         '../mccoy_hoono/25cm_disp/hoono_r3_1p435454',\n",
    "         '../mccoy_hoono/25cm_disp/hoono_r2_1p439860',\n",
    "         '../mccoy_hoono/25cm_disp/hoono_a2_103p9239',\n",
    "         '../mccoy_hoono/25cm_disp/hoono_d1_189p8116',\n",
    "         '../mccoy_hoono/25cm_disp/hoono_r4_1p161865',\n",
    "         '../mccoy_hoono/25cm_disp/hoono_a3_110p3143',\n",
    "         '../mccoy_hoono/25cm_disp/hoono_a2_100p6711',\n",
    "         '../mccoy_hoono/25cm_disp/hoono_r3_1p482113',\n",
    "         '../mccoy_hoono/25cm_disp/hoono_a1_95p73743',\n",
    "         '../mccoy_hoono/25cm_disp/hoono_a1_99p45246',\n",
    "         '../mccoy_hoono/25cm_disp/hoono_r4_1p179592',\n",
    "         '../mccoy_hoono/25cm_disp/hoono_r1_0p980134',\n",
    "         '../mccoy_hoono/25cm_disp/hoono_r2_1p469977',\n",
    "         '../mccoy_hoono/25cm_disp/hoono_r1_0p957817',\n",
    "         '../mccoy_hoono/25cm_disp/hoono_a3_107p8247',\n",
    "         '../mccoy_hoono/25cm_disp/hoono_d1_170p1883',\n",
    "         '../mccoy_hoono/35cm_disp/hoono_a3_110p5423',\n",
    "         '../mccoy_hoono/35cm_disp/hoono_d1_191p6092',\n",
    "         '../mccoy_hoono/35cm_disp/hoono_r2_1p472736',\n",
    "         '../mccoy_hoono/35cm_disp/hoono_a3_107p5967',\n",
    "         '../mccoy_hoono/35cm_disp/hoono_a1_99p79279',\n",
    "         '../mccoy_hoono/35cm_disp/hoono_r1_0p955772',\n",
    "         '../mccoy_hoono/35cm_disp/hoono_r3_1p431179',\n",
    "         '../mccoy_hoono/35cm_disp/hoono_a1_95p39710',\n",
    "         '../mccoy_hoono/35cm_disp/hoono_a2_100p3731',\n",
    "         '../mccoy_hoono/35cm_disp/hoono_r4_1p181216',\n",
    "         '../mccoy_hoono/35cm_disp/hoono_a2_104p2219',\n",
    "         '../mccoy_hoono/35cm_disp/hoono_r3_1p486388',\n",
    "         '../mccoy_hoono/35cm_disp/hoono_d1_168p3907',\n",
    "         '../mccoy_hoono/35cm_disp/hoono_r1_0p982178',\n",
    "         '../mccoy_hoono/35cm_disp/hoono_r2_1p437101',\n",
    "         '../mccoy_hoono/35cm_disp/hoono_r4_1p160241']"
   ]
  },
  {
   "cell_type": "code",
   "execution_count": 8,
   "id": "8efad2a0-8e4c-40cf-a609-30032e5136b5",
   "metadata": {},
   "outputs": [],
   "source": [
    "results = misc.pull_displaced_results(eq_zmat=hoono_eq,\n",
    "                                          eq_energy=hoono_eq_energy,\n",
    "                                          files=files,\n",
    "                                          sec_der=True)"
   ]
  },
  {
   "cell_type": "code",
   "execution_count": 10,
   "id": "c812492a-7972-479a-ab2d-1bc8e83fbd5b",
   "metadata": {},
   "outputs": [
    {
     "data": {
      "text/plain": [
       "[51.82183638569161,\n",
       " 46.550306573879595,\n",
       " 41.2940064212547,\n",
       " 36.05381076051458,\n",
       " 30.830777979160334,\n",
       " 25.626226258428296,\n",
       " 20.44186156137733,\n",
       " 15.280014858103762,\n",
       " 10.14416348475961,\n",
       " 5.040390075505437,\n",
       " 4.9351481748047865,\n",
       " 9.834038867721675,\n",
       " 14.702631141217633,\n",
       " 19.547008340567466,\n",
       " 24.3706474650796,\n",
       " 29.175879958926522,\n",
       " 33.96441073720928,\n",
       " 38.73756027669086,\n",
       " 43.49638596681729,\n",
       " 48.241763039508264]"
      ]
     },
     "execution_count": 10,
     "metadata": {},
     "output_type": "execute_result"
    }
   ],
   "source": [
    "results['r1']['disp_energies']"
   ]
  },
  {
   "cell_type": "code",
   "execution_count": 11,
   "id": "2807b56f-cb95-4439-a50b-b7f5464886ac",
   "metadata": {},
   "outputs": [
    {
     "data": {
      "text/plain": [
       "[<matplotlib.lines.Line2D at 0x7fb4192b5d00>]"
      ]
     },
     "execution_count": 11,
     "metadata": {},
     "output_type": "execute_result"
    },
    {
     "data": {
      "image/png": "[encoded data removed]",
      "text/plain": [
       "<Figure size 432x288 with 1 Axes>"
      ]
     },
     "metadata": {
      "needs_background": "light"
     },
     "output_type": "display_data"
    }
   ],
   "source": [
    "plt.plot(results['r1']['disp_vals'], results['r1']['disp_energies'])"
   ]
  },
  {
   "cell_type": "code",
   "execution_count": null,
   "id": "40c1e42a-3257-44a8-b229-a164386da8ab",
   "metadata": {},
   "outputs": [],
   "source": []
  },
  {
   "cell_type": "markdown",
   "id": "729dc010-51ee-4d61-91ff-6b3e13d6acb3",
   "metadata": {},
   "source": [
    "- add in equilibrium structure including vals and energies"
   ]
  },
  {
   "cell_type": "markdown",
   "id": "0a931139-9363-433d-9002-6378cddfc413",
   "metadata": {},
   "source": [
    "# Single-coordinate displacement frequency calculations"
   ]
  },
  {
   "cell_type": "code",
   "execution_count": 2,
   "id": "dcc18161-351d-4895-936d-19c0e964f2c8",
   "metadata": {},
   "outputs": [],
   "source": [
    "hoono_eq_energy = -280.4467347"
   ]
  },
  {
   "cell_type": "code",
   "execution_count": 3,
   "id": "746ff980-33ea-408c-816e-e92132955a47",
   "metadata": {},
   "outputs": [
    {
     "name": "stderr",
     "output_type": "stream",
     "text": [
      "<ipython-input-3-eb58ad143722>:2: VisibleDeprecationWarning: Creating an ndarray from ragged nested sequences (which is a list-or-tuple of lists-or-tuples-or ndarrays with different lengths or shapes) is deprecated. If you meant to do this, you must specify 'dtype=object' when creating the ndarray.\n",
      "  specs = np.array([[1, 2, 3, 4], [1, 2, 3], [1, 2]])\n",
      "<ipython-input-3-eb58ad143722>:3: VisibleDeprecationWarning: Creating an ndarray from ragged nested sequences (which is a list-or-tuple of lists-or-tuples-or ndarrays with different lengths or shapes) is deprecated. If you meant to do this, you must specify 'dtype=object' when creating the ndarray.\n",
      "  names = np.array([['r1', 'r2', 'r3', 'r4'], ['a1', 'a2', 'a3'], ['d1', 'd2']])\n",
      "<ipython-input-3-eb58ad143722>:4: VisibleDeprecationWarning: Creating an ndarray from ragged nested sequences (which is a list-or-tuple of lists-or-tuples-or ndarrays with different lengths or shapes) is deprecated. If you meant to do this, you must specify 'dtype=object' when creating the ndarray.\n",
      "  vals = np.array([[0.96897556, 1.45491931, 1.45878406, 1.17072885],\n"
     ]
    }
   ],
   "source": [
    "atoms = ['H', 'O', 'O', 'N', 'O']\n",
    "specs = np.array([[1, 2, 3, 4], [1, 2, 3], [1, 2]])\n",
    "names = np.array([['r1', 'r2', 'r3', 'r4'], ['a1', 'a2', 'a3'], ['d1', 'd2']])\n",
    "vals = np.array([[0.96897556, 1.45491931, 1.45878406, 1.17072885],\n",
    "                 [97.59494903, 102.29752444, 109.06955123],\n",
    "                 [180., 180.]])\n",
    "units = [\"Angstroms\", \"Degrees\"]\n",
    "hoono_eq = misc.zmat(atoms=atoms, easy_build_dict={'specs':specs, 'names':names, 'vals':vals, 'units':units})"
   ]
  },
  {
   "cell_type": "code",
   "execution_count": 4,
   "id": "07584604-59bb-490b-8f15-6b1493f649b2",
   "metadata": {},
   "outputs": [],
   "source": [
    "hoono_eq_log = gt.GLogInterpreter(log_files='../mccoy_hoono/hoono_eq.log')\n",
    "hoono_eq_log.pull_forces()"
   ]
  },
  {
   "cell_type": "code",
   "execution_count": 5,
   "id": "48b3b2e0-3a7d-40fd-a780-23e45de4519b",
   "metadata": {},
   "outputs": [],
   "source": [
    "params = {\n",
    "                'header': f'%nproc=28\\n%mem=120GB\\n%chk=',\n",
    "                'job': '#p freq mp2/aug-cc-pvtz density=current\\n\\n',\n",
    "                'description': 'title\\n\\n',\n",
    "                'charge': '0 1\\n',\n",
    "                'molecule': '',\n",
    "                'variables': 'Variables\\n',\n",
    "                'vars': '',\n",
    "                'whitespace': '\\n'*10}"
   ]
  },
  {
   "cell_type": "code",
   "execution_count": 6,
   "id": "0df23dae-75f5-47e4-a6a6-91a3ebe746fb",
   "metadata": {},
   "outputs": [],
   "source": [
    "sbatch_params = '#SBATCH --job-name=hoono\\n#SBATCH --ntasks=28\\n#SBATCH --nodes=1 \\n#SBATCH --time=3:00:00\\n#SBATCH --mem=120G\\n#SBATCH --chdir=/gscratch/ilahie/mccoygrp/coire_hoono/single_coord_freq/\\n#SBATCH --partition=ilahie\\n#SBATCH --account=ilahie\\n'"
   ]
  },
  {
   "cell_type": "raw",
   "id": "008ada6d-97f0-494d-b57b-aa9f3ac9fa69",
   "metadata": {},
   "source": [
    "disp_energies = [5, 10, 15, 20, 25, 30, 35, 40, 45, 50]\n",
    "for i in disp_energies:\n",
    "    misc.write_displaced_zmats(eq_zmat=hoono_eq,\n",
    "                               disp_en=i,\n",
    "                               force_constants=hoono_eq_log.force_constants,\n",
    "                               fname_base='hoono',\n",
    "                               sbatch_params = sbatch_params,\n",
    "                               fchks=True,\n",
    "                               params=params,\n",
    "                               job_file_path=f'../mccoy_hoono/single_coord_freq/')"
   ]
  },
  {
   "cell_type": "code",
   "execution_count": 7,
   "id": "d4a861d4-59af-4b94-b883-78269e6e006f",
   "metadata": {},
   "outputs": [],
   "source": [
    "results = misc.pull_displaced_results(eq_zmat=hoono_eq,\n",
    "                                          eq_energy=hoono_eq_energy,\n",
    "                                          files=[os.path.splitext(val)[0] for val in glob.glob(\"../mccoy_hoono/single_coord_freq/hoono_*_*.log\")],\n",
    "                                          eq_log='../mccoy_hoono/single_coord_freq/hoono_eq')"
   ]
  },
  {
   "cell_type": "code",
   "execution_count": 53,
   "id": "e98c5054-2d25-421e-ba94-ca39c8fb7f5d",
   "metadata": {},
   "outputs": [
    {
     "data": {
      "text/plain": [
       "{'filenames': ['../mccoy_hoono/single_coord_freq/hoono_r1_0p953195',\n",
       "  '../mccoy_hoono/single_coord_freq/hoono_r1_0p954004',\n",
       "  '../mccoy_hoono/single_coord_freq/hoono_r1_0p954861',\n",
       "  '../mccoy_hoono/single_coord_freq/hoono_r1_0p955772',\n",
       "  '../mccoy_hoono/single_coord_freq/hoono_r1_0p956752',\n",
       "  '../mccoy_hoono/single_coord_freq/hoono_r1_0p957817',\n",
       "  '../mccoy_hoono/single_coord_freq/hoono_r1_0p958995',\n",
       "  '../mccoy_hoono/single_coord_freq/hoono_r1_0p960332',\n",
       "  '../mccoy_hoono/single_coord_freq/hoono_r1_0p961918',\n",
       "  '../mccoy_hoono/single_coord_freq/hoono_r1_0p963985',\n",
       "  'eq',\n",
       "  '../mccoy_hoono/single_coord_freq/hoono_r1_0p973965',\n",
       "  '../mccoy_hoono/single_coord_freq/hoono_r1_0p976032',\n",
       "  '../mccoy_hoono/single_coord_freq/hoono_r1_0p977618',\n",
       "  '../mccoy_hoono/single_coord_freq/hoono_r1_0p978956',\n",
       "  '../mccoy_hoono/single_coord_freq/hoono_r1_0p980134',\n",
       "  '../mccoy_hoono/single_coord_freq/hoono_r1_0p981199',\n",
       "  '../mccoy_hoono/single_coord_freq/hoono_r1_0p982178',\n",
       "  '../mccoy_hoono/single_coord_freq/hoono_r1_0p983090',\n",
       "  '../mccoy_hoono/single_coord_freq/hoono_r1_0p983946',\n",
       "  '../mccoy_hoono/single_coord_freq/hoono_r1_0p984756'],\n",
       " 'disp_vals': [-0.01577555999999991,\n",
       "  -0.014975559999999999,\n",
       "  -0.014115559999999916,\n",
       "  -0.01320555999999995,\n",
       "  -0.012225559999999969,\n",
       "  -0.011155559999999953,\n",
       "  -0.009975559999999994,\n",
       "  -0.008645559999999941,\n",
       "  -0.007055559999999961,\n",
       "  -0.0049855599999999445,\n",
       "  0,\n",
       "  0.004994440000000044,\n",
       "  0.007054439999999995,\n",
       "  0.008644440000000086,\n",
       "  0.009984440000000094,\n",
       "  0.011154439999999988,\n",
       "  0.012224440000000003,\n",
       "  0.013204440000000095,\n",
       "  0.014114440000000061,\n",
       "  0.014974440000000033,\n",
       "  0.01578444000000001],\n",
       " 'disp_units': ['Angstroms',\n",
       "  'Angstroms',\n",
       "  'Angstroms',\n",
       "  'Angstroms',\n",
       "  'Angstroms',\n",
       "  'Angstroms',\n",
       "  'Angstroms',\n",
       "  'Angstroms',\n",
       "  'Angstroms',\n",
       "  'Angstroms',\n",
       "  'Angstroms',\n",
       "  'Angstroms',\n",
       "  'Angstroms',\n",
       "  'Angstroms',\n",
       "  'Angstroms',\n",
       "  'Angstroms',\n",
       "  'Angstroms',\n",
       "  'Angstroms',\n",
       "  'Angstroms',\n",
       "  'Angstroms',\n",
       "  'Angstroms'],\n",
       " 'disp_energies': [51.82183705937878,\n",
       "  46.55030735984797,\n",
       "  41.29400705751481,\n",
       "  36.05381164628846,\n",
       "  30.830779014642474,\n",
       "  25.626226807358584,\n",
       "  20.441862160210373,\n",
       "  15.28001565654782,\n",
       "  10.144164158446783,\n",
       "  5.040390487203155,\n",
       "  0,\n",
       "  4.93514908553004,\n",
       "  9.834039329322147,\n",
       "  14.702631752526365,\n",
       "  19.54700932614685,\n",
       "  24.37064810133971,\n",
       "  29.175880370624242,\n",
       "  33.964411585556086,\n",
       "  38.73756126227024,\n",
       "  43.49638669040721,\n",
       "  48.24176380052526],\n",
       " 'force_constants': [447230.41899900464,\n",
       "  444775.6885161728,\n",
       "  442193.20545712736,\n",
       "  439459.45707777963,\n",
       "  436539.1742619971,\n",
       "  433384.5477634666,\n",
       "  429919.55304296885,\n",
       "  426017.22128242627,\n",
       "  421430.66866891057,\n",
       "  415521.91607948905,\n",
       "  401567.88622114423,\n",
       "  388041.78830520884,\n",
       "  382561.7514163329,\n",
       "  378404.6982614992,\n",
       "  374931.0822015023,\n",
       "  371895.58693968644,\n",
       "  369169.6761417015,\n",
       "  366678.8927846009,\n",
       "  364373.8601057988,\n",
       "  362221.6602635715,\n",
       "  360195.6454812854]}"
      ]
     },
     "execution_count": 53,
     "metadata": {},
     "output_type": "execute_result"
    }
   ],
   "source": [
    "results['r1']"
   ]
  },
  {
   "cell_type": "code",
   "execution_count": 21,
   "id": "a2a34c43-b143-46cf-aa2e-5d0422e1dac7",
   "metadata": {},
   "outputs": [],
   "source": [
    "d = misc.fourth_ders(results)"
   ]
  },
  {
   "cell_type": "code",
   "execution_count": 22,
   "id": "bd0276aa-3a0c-434e-81df-05b743745b3f",
   "metadata": {},
   "outputs": [
    {
     "data": {
      "text/plain": [
       "{'disp_vals': [4.387889999999999,\n",
       "  6.2054100000000005,\n",
       "  7.60005000000001,\n",
       "  8.775779999999997,\n",
       "  9.811620000000005,\n",
       "  10.74808999999999,\n",
       "  11.60927000000001,\n",
       "  12.410830000000004,\n",
       "  13.163669999999996,\n",
       "  13.875730000000004],\n",
       " 'fourth_ders': [0.0008141348781621635,\n",
       "  0.0008145872194774277,\n",
       "  0.0008135558090016095,\n",
       "  0.0008123813248333546,\n",
       "  0.0008106625478464312,\n",
       "  0.0008088570891726416,\n",
       "  0.0008070208589011251,\n",
       "  0.0008051670727567681,\n",
       "  0.0008032933273283977,\n",
       "  0.0008014186105162231]}"
      ]
     },
     "execution_count": 22,
     "metadata": {},
     "output_type": "execute_result"
    }
   ],
   "source": [
    "d['d1']"
   ]
  },
  {
   "cell_type": "code",
   "execution_count": 25,
   "id": "840755d6-365e-42f0-939f-71b662a7d1b4",
   "metadata": {},
   "outputs": [],
   "source": [
    "en = np.linspace(5, 50, 10)"
   ]
  },
  {
   "cell_type": "code",
   "execution_count": 26,
   "id": "905541fe-0f17-41e8-9287-69e622a5a34f",
   "metadata": {},
   "outputs": [
    {
     "data": {
      "text/plain": [
       "[<matplotlib.lines.Line2D at 0x7fcc79bbf9a0>]"
      ]
     },
     "execution_count": 26,
     "metadata": {},
     "output_type": "execute_result"
    },
    {
     "data": {
      "image/png": "[encoded data removed]",
      "text/plain": [
       "<Figure size 432x288 with 1 Axes>"
      ]
     },
     "metadata": {
      "needs_background": "light"
     },
     "output_type": "display_data"
    }
   ],
   "source": [
    "plt.plot(en, d['d1']['fourth_ders'])"
   ]
  },
  {
   "cell_type": "code",
   "execution_count": 36,
   "id": "dce1574d-455b-4780-a524-622fc58266ed",
   "metadata": {},
   "outputs": [
    {
     "data": {
      "image/png": "[encoded data removed]",
      "text/plain": [
       "<Figure size 288x612 with 4 Axes>"
      ]
     },
     "metadata": {
      "needs_background": "light"
     },
     "output_type": "display_data"
    }
   ],
   "source": [
    "en = np.linspace(5, 50, 10)\n",
    "fig, axs = plt.subplots(4, 1, sharex=True)\n",
    "\n",
    "axs[0].plot(en, d['r1']['fourth_ders'], label='r1')\n",
    "axs[1].plot(en, d['r2']['fourth_ders'], label='r2')\n",
    "axs[2].plot(en, d['r3']['fourth_ders'], label='r3')\n",
    "axs[3].plot(en, d['r4']['fourth_ders'], label='r4')\n",
    "#axs[0,1].plot(en, d['a1']['fourth_ders'])\n",
    "#axs[1,1].plot(en, d['a2']['fourth_ders'])\n",
    "#axs[2,1].plot(en, d['a3']['fourth_ders'])\n",
    "#axs[0,2].plot(en, d['d1']['fourth_ders'])\n",
    "#axs[1,2].plot(en, d['d2']['fourth_ders'])\n",
    "for ax in axs:\n",
    "    ax.legend(loc='lower right')\n",
    "\n",
    "fig.subplots_adjust(hspace = 0)\n",
    "fig.set_size_inches(w=4,h=8.5)"
   ]
  },
  {
   "cell_type": "code",
   "execution_count": 52,
   "id": "1a71a516-dd49-462f-83b0-dbc70917565d",
   "metadata": {},
   "outputs": [
    {
     "data": {
      "image/png": "[encoded data removed]",
      "text/plain": [
       "<Figure size 864x612 with 12 Axes>"
      ]
     },
     "metadata": {
      "needs_background": "light"
     },
     "output_type": "display_data"
    }
   ],
   "source": [
    "en = np.linspace(5, 50, 10)\n",
    "fig, axs = plt.subplots(4, 3, sharex=True)\n",
    "\n",
    "axs[0,0].plot(en, d['r1']['fourth_ders'], label='r1')\n",
    "axs[1,0].plot(en, d['r2']['fourth_ders'], label='r2')\n",
    "axs[2,0].plot(en, d['r3']['fourth_ders'], label='r3')\n",
    "axs[3,0].plot(en, d['r4']['fourth_ders'], label='r4')\n",
    "axs[0,1].plot(en, d['a1']['fourth_ders'], label='a1')\n",
    "axs[1,1].plot(en, d['a2']['fourth_ders'], label='a2')\n",
    "axs[2,1].plot(en, d['a3']['fourth_ders'], label='a3')\n",
    "axs[0,2].plot(en, d['d1']['fourth_ders'], label='d1')\n",
    "axs[1,2].plot(en, d['d2']['fourth_ders'], label='d2')\n",
    "\n",
    "axs[3,1].plot(en, np.ones(10), color='white', label='N/A')\n",
    "axs[2,2].plot(en, np.ones(10), color='white', label='N/A')\n",
    "axs[3,2].plot(en, np.ones(10), color='white', label='N/A')\n",
    "\n",
    "for ax in axs:\n",
    "    for a in ax:\n",
    "        a.legend(loc='center right')\n",
    "\n",
    "fig.subplots_adjust(hspace = 0, wspace=0.5)\n",
    "fig.set_size_inches(w=12,h=8.5)"
   ]
  },
  {
   "cell_type": "code",
   "execution_count": 60,
   "id": "0cb8a9a8-ccc9-4445-a75e-677d1346539f",
   "metadata": {},
   "outputs": [
    {
     "data": {
      "image/png": "[encoded data removed]",
      "text/plain": [
       "<Figure size 864x612 with 12 Axes>"
      ]
     },
     "metadata": {
      "needs_background": "light"
     },
     "output_type": "display_data"
    }
   ],
   "source": [
    "en = np.linspace(5, 50, 10)\n",
    "fig, axs = plt.subplots(4, 3, sharex=True)\n",
    "\n",
    "axs[0,0].plot(en, d['r1']['fourth_ders'], label='r1')\n",
    "axs[1,0].plot(en, d['r2']['fourth_ders'], label='r2')\n",
    "axs[2,0].plot(en, d['r3']['fourth_ders'], label='r3')\n",
    "axs[3,0].plot(en, d['r4']['fourth_ders'], label='r4')\n",
    "axs[0,1].plot(en, d['a1']['fourth_ders'], label='a1')\n",
    "axs[1,1].plot(en, d['a2']['fourth_ders'], label='a2')\n",
    "axs[2,1].plot(en, d['a3']['fourth_ders'], label='a3')\n",
    "axs[0,2].plot(en, d['d1']['fourth_ders'], label='d1')\n",
    "axs[1,2].plot(en, d['d2']['fourth_ders'], label='d2')\n",
    "\n",
    "axs[3,1].plot(en, np.ones(10), color='white', label='N/A')\n",
    "axs[2,2].plot(en, np.ones(10), color='white', label='N/A')\n",
    "axs[3,2].plot(en, np.ones(10), color='white', label='N/A')\n",
    "\n",
    "for ax in axs:\n",
    "    for a in ax:\n",
    "        a.legend(loc='center right')\n",
    "\n",
    "axs[3,1].set_xlabel(\"Displacement Energy (Angstroms)\")\n",
    "axs[2,0].set_ylabel(\"Fourth Derivatives (Wavenumbers/Angstrom^4)\")\n",
    "axs[2,1].set_ylabel(\"Fourth Derivatives (Wavenumbers/Degree^4)\")\n",
    "fig.subplots_adjust(hspace = 0, wspace=0.5)\n",
    "fig.set_size_inches(w=12,h=8.5)\n",
    "plt.savefig(\"Validation_results.pdf\")"
   ]
  },
  {
   "cell_type": "code",
   "execution_count": 54,
   "id": "f0b40a91-8508-49cc-a1a0-1f7e9340fd84",
   "metadata": {},
   "outputs": [
    {
     "data": {
      "text/plain": [
       "[-1084498416.723595,\n",
       " -763833519.8036406,\n",
       " -619947050.9730767,\n",
       " -534397832.59804314,\n",
       " -476964057.1498365,\n",
       " -433603786.708519,\n",
       " -400201268.31847286,\n",
       " -373401349.8042323,\n",
       " -350939212.5777307,\n",
       " -332109028.0092983]"
      ]
     },
     "execution_count": 54,
     "metadata": {},
     "output_type": "execute_result"
    }
   ],
   "source": [
    "d['r1']['fourth_ders']"
   ]
  },
  {
   "cell_type": "code",
   "execution_count": 66,
   "id": "4eb7003d-ccfa-42e6-b98a-386fb6a4a866",
   "metadata": {},
   "outputs": [
    {
     "data": {
      "text/plain": [
       "401567.88622114423"
      ]
     },
     "execution_count": 66,
     "metadata": {},
     "output_type": "execute_result"
    }
   ],
   "source": [
    "results['r1']['force_constants'][10]"
   ]
  },
  {
   "cell_type": "code",
   "execution_count": 61,
   "id": "42126154-4fe8-40bb-b65b-bf91f94f4bc8",
   "metadata": {},
   "outputs": [
    {
     "ename": "NameError",
     "evalue": "name 'k' is not defined",
     "output_type": "error",
     "traceback": [
      "\u001b[0;31m---------------------------------------\u001b[0m",
      "\u001b[0;31mNameError\u001b[0mTraceback (most recent call last)",
      "\u001b[0;32m<ipython-input-61-b72d2cfe004d>\u001b[0m in \u001b[0;36m<module>\u001b[0;34m\u001b[0m\n\u001b[0;32m----> 1\u001b[0;31m \u001b[0ma\u001b[0m \u001b[0;34m=\u001b[0m \u001b[0mnp\u001b[0m\u001b[0;34m.\u001b[0m\u001b[0msqrt\u001b[0m\u001b[0;34m(\u001b[0m\u001b[0mk\u001b[0m\u001b[0;34m/\u001b[0m\u001b[0;34m(\u001b[0m\u001b[0;36m2\u001b[0m\u001b[0;34m*\u001b[0m\u001b[0mD\u001b[0m\u001b[0;34m)\u001b[0m\u001b[0;34m)\u001b[0m\u001b[0;34m\u001b[0m\u001b[0;34m\u001b[0m\u001b[0m\n\u001b[0m",
      "\u001b[0;31mNameError\u001b[0m: name 'k' is not defined"
     ]
    }
   ],
   "source": [
    "k = \n",
    "a = np.sqrt(k/(2*D))"
   ]
  },
  {
   "cell_type": "code",
   "execution_count": 95,
   "id": "dc7b8c19-fc7c-4342-9cfd-b9c0942cf966",
   "metadata": {},
   "outputs": [
    {
     "data": {
      "text/plain": [
       "<matplotlib.lines.Line2D at 0x7fcc601257c0>"
      ]
     },
     "execution_count": 95,
     "metadata": {},
     "output_type": "execute_result"
    },
    {
     "data": {
      "image/png": "[encoded data removed]",
      "text/plain": [
       "<Figure size 432x288 with 1 Axes>"
      ]
     },
     "metadata": {
      "needs_background": "light"
     },
     "output_type": "display_data"
    }
   ],
   "source": [
    "fig = plt.figure()\n",
    "ax = plt.axes()\n",
    "\n",
    "en = np.linspace(5, 50, 10)\n",
    "k = results['r1']['force_constants'][10]\n",
    "D = 90\n",
    "a = np.sqrt(k/(2*D))\n",
    "\n",
    "ax.plot(en, d['r1']['fourth_ders'], label='r1')\n",
    "ax.axhline(14*a**4*D)"
   ]
  },
  {
   "cell_type": "code",
   "execution_count": 111,
   "id": "d2eaa4b6-e70c-4dd0-859e-f969ccb077a8",
   "metadata": {},
   "outputs": [
    {
     "data": {
      "text/plain": [
       "[<matplotlib.lines.Line2D at 0x7fcc60de6b20>]"
      ]
     },
     "execution_count": 111,
     "metadata": {},
     "output_type": "execute_result"
    },
    {
     "data": {
      "image/png": "[encoded data removed]",
      "text/plain": [
       "<Figure size 432x288 with 1 Axes>"
      ]
     },
     "metadata": {
      "needs_background": "light"
     },
     "output_type": "display_data"
    }
   ],
   "source": [
    "fig = plt.figure()\n",
    "ax = plt.axes()\n",
    "\n",
    "en = np.linspace(-50, 50, 21)\n",
    "\n",
    "ax.scatter(results['r1']['disp_vals'], results['r1']['force_constants'], label='r1')\n",
    "ax.plot(results['r1']['disp_vals'], morse_second(np.array(results['r1']['disp_vals']),results['r1']['force_constants'][10],90 ))"
   ]
  },
  {
   "cell_type": "markdown",
   "id": "013e1070-e9e5-46ba-92eb-b07c2137c688",
   "metadata": {},
   "source": [
    "Plot morse 2nd derivatives as function of displacements $d \\left(2 a^2 e^{-2 a (x-r)}-2 a^2 e^{-a (x-r)} \\left(1-e^{-a (x-r)}\\right)\\right)$"
   ]
  },
  {
   "cell_type": "code",
   "execution_count": 98,
   "id": "06e10391-b954-4396-920b-9b7a829288ca",
   "metadata": {},
   "outputs": [],
   "source": [
    "def morse_second(x, k, d):\n",
    "    a = np.sqrt(k/(2*D)) \n",
    "    return d*(2*a**2*np.exp(-2*a*(x))-2*a**2*np.exp(-a*x)*(1-np.exp(-a*x)))"
   ]
  },
  {
   "cell_type": "code",
   "execution_count": 113,
   "id": "75fa67ea-4f57-4bc7-b83f-84714da9db39",
   "metadata": {},
   "outputs": [],
   "source": [
    "def morse(x,r, k, D):\n",
    "    a = np.sqrt(k/(2*D))\n",
    "    return D*((1-np.exp(-a*(x-r)))**2)"
   ]
  },
  {
   "cell_type": "code",
   "execution_count": 114,
   "id": "bfa58975-68fc-4a39-970c-159a8bf50613",
   "metadata": {},
   "outputs": [
    {
     "data": {
      "text/plain": [
       "[<matplotlib.lines.Line2D at 0x7fcc60fcb4c0>]"
      ]
     },
     "execution_count": 114,
     "metadata": {},
     "output_type": "execute_result"
    },
    {
     "data": {
      "image/png": "[encoded data removed]",
      "text/plain": [
       "<Figure size 432x288 with 1 Axes>"
      ]
     },
     "metadata": {
      "needs_background": "light"
     },
     "output_type": "display_data"
    }
   ],
   "source": [
    "plt.plot(results['r1']['disp_vals'], results['r1']['disp_energies'])\n",
    "plt.plot(results['r1']['disp_vals'], morse(np.array(results['r1']['disp_vals']), 0, results['r1']['force_constants'][10], 90))"
   ]
  },
  {
   "cell_type": "code",
   "execution_count": null,
   "id": "25c448ac-9c92-45ed-9357-3809b2d9064c",
   "metadata": {},
   "outputs": [],
   "source": []
  }
 ],
 "metadata": {
  "kernelspec": {
   "display_name": "Python 3",
   "language": "python",
   "name": "python3"
  },
  "language_info": {
   "codemirror_mode": {
    "name": "ipython",
    "version": 3
   },
   "file_extension": ".py",
   "mimetype": "text/x-python",
   "name": "python",
   "nbconvert_exporter": "python",
   "pygments_lexer": "ipython3",
   "version": "3.8.8"
  }
 },
 "nbformat": 4,
 "nbformat_minor": 5
}
