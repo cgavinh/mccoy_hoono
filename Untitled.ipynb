{
 "cells": [
  {
   "cell_type": "code",
   "execution_count": 12,
   "id": "382a6ba0-1dd5-4941-ab77-cb9dd917f76b",
   "metadata": {},
   "outputs": [],
   "source": [
    "import sys\n",
    "import os\n",
    "sys.path.append('../CGH_Toolbox/')\n",
    "import matplotlib.pyplot as plt\n",
    "from matplotlib import ticker, cm\n",
    "from matplotlib.colors import LogNorm\n",
    "import numpy as np\n",
    "import nglview as nv\n",
    "import MDAnalysis as mda\n",
    "import pyvibdmc as pv\n",
    "import utilities as uts\n",
    "import gaussian_tools as gt\n",
    "import glob\n",
    "import pandas as pd\n",
    "import pickle\n",
    "from scipy import interpolate\n",
    "import dvr, utilities, dvr_arrays\n",
    "from McUtils import Data as McData\n",
    "import copy"
   ]
  },
  {
   "cell_type": "code",
   "execution_count": 11,
   "id": "6efc4416-626d-4afd-abd0-21c7bf690fd7",
   "metadata": {},
   "outputs": [
    {
     "ename": "NameError",
     "evalue": "name 'copy' is not defined",
     "output_type": "error",
     "traceback": [
      "\u001b[0;31m---------------------------------------------------------------------------\u001b[0m",
      "\u001b[0;31mNameError\u001b[0m                                 Traceback (most recent call last)",
      "\u001b[0;32m<ipython-input-11-e880084f74ca>\u001b[0m in \u001b[0;36m<module>\u001b[0;34m\u001b[0m\n\u001b[0;32m----> 1\u001b[0;31m \u001b[0mcopy\u001b[0m\u001b[0;34m.\u001b[0m\u001b[0mdeepcopy\u001b[0m\u001b[0;34m(\u001b[0m\u001b[0;34m)\u001b[0m\u001b[0;34m\u001b[0m\u001b[0;34m\u001b[0m\u001b[0m\n\u001b[0m",
      "\u001b[0;31mNameError\u001b[0m: name 'copy' is not defined"
     ]
    }
   ],
   "source": []
  },
  {
   "cell_type": "markdown",
   "id": "fbaf0937-92bc-46bc-819f-845457ac03e2",
   "metadata": {},
   "source": [
    "# HOONO"
   ]
  },
  {
   "cell_type": "markdown",
   "id": "d3bac4ac-b9d2-4b0d-a4ce-8604c79002ff",
   "metadata": {},
   "source": [
    "# HONO"
   ]
  },
  {
   "cell_type": "code",
   "execution_count": 24,
   "id": "1f2667f3-4972-4e66-8e80-555847f85b0d",
   "metadata": {},
   "outputs": [],
   "source": [
    "connections = [['H', 'O', 'N', 'O'],\n",
    "                   [1,2,3],\n",
    "                   [1,2],\n",
    "                   [1]]\n",
    "vars = [['r1', 'r2', 'r3'],\n",
    "            ['a1', 'a2'],\n",
    "            ['d1']]\n",
    "vals = [[0.97026274, 1.42776435, 1.17680217],\n",
    "            [101.62778541, 110.70859147],\n",
    "            [180.]]"
   ]
  },
  {
   "cell_type": "code",
   "execution_count": 35,
   "id": "3d4984c0-2933-40e4-96cd-19f39735fcc2",
   "metadata": {},
   "outputs": [
    {
     "name": "stdout",
     "output_type": "stream",
     "text": [
      "[[0.97026274, 1.42776435, 1.17680217], [101.62778541, 110.70859147], [180.0]]\n",
      "{'header': '%nproc=28\\n%mem=120GB\\n%chk=/gscratch/ilahie/mccoygrp/coire_hoono/hono/hono_r1_p_005.chk\\n', 'job': '#p SP mp2/aug-cc-pvtz density=current\\n\\n', 'description': 'title\\n\\n', 'charge': '0 1\\n', 'molecule': 'H\\nO 1 r1\\nN 2 r2 1 a1\\nO 3 r3 2 a2 1 d1\\n', 'variables': 'Variables\\n', 'vars': ' r1=0.97526274\\n r2=1.42776435\\n r3=1.17680217\\n a1=101.62778541\\n a2=110.70859147\\n d1=180.0\\n', 'whitespace': '\\n\\n\\n\\n\\n\\n\\n\\n\\n\\n'}\n",
      "[[0.97026274, 1.42776435, 1.17680217], [101.62778541, 110.70859147], [180.0]]\n",
      "{'header': '%nproc=28\\n%mem=120GB\\n%chk=/gscratch/ilahie/mccoygrp/coire_hoono/hono/hono_r1_m_005.chk\\n', 'job': '#p SP mp2/aug-cc-pvtz density=current\\n\\n', 'description': 'title\\n\\n', 'charge': '0 1\\n', 'molecule': 'H\\nO 1 r1\\nN 2 r2 1 a1\\nO 3 r3 2 a2 1 d1\\n', 'variables': 'Variables\\n', 'vars': ' r1=0.96526274\\n r2=1.42776435\\n r3=1.17680217\\n a1=101.62778541\\n a2=110.70859147\\n d1=180.0\\n', 'whitespace': '\\n\\n\\n\\n\\n\\n\\n\\n\\n\\n'}\n",
      "{'header': '%nproc=28\\n%mem=120GB\\n%chk=/gscratch/ilahie/mccoygrp/coire_hoono/hono/hono_r2_p_005.chk\\n', 'job': '#p SP mp2/aug-cc-pvtz density=current\\n\\n', 'description': 'title\\n\\n', 'charge': '0 1\\n', 'molecule': 'H\\nO 1 r1\\nN 2 r2 1 a1\\nO 3 r3 2 a2 1 d1\\n', 'variables': 'Variables\\n', 'vars': ' r1=0.97026274\\n r2=1.4327643499999998\\n r3=1.17680217\\n a1=101.62778541\\n a2=110.70859147\\n d1=180.0\\n', 'whitespace': '\\n\\n\\n\\n\\n\\n\\n\\n\\n\\n'}\n",
      "[[0.97026274, 1.42776435, 1.17680217], [101.62778541, 110.70859147], [180.0]]\n",
      "{'header': '%nproc=28\\n%mem=120GB\\n%chk=/gscratch/ilahie/mccoygrp/coire_hoono/hono/hono_r2_m_005.chk\\n', 'job': '#p SP mp2/aug-cc-pvtz density=current\\n\\n', 'description': 'title\\n\\n', 'charge': '0 1\\n', 'molecule': 'H\\nO 1 r1\\nN 2 r2 1 a1\\nO 3 r3 2 a2 1 d1\\n', 'variables': 'Variables\\n', 'vars': ' r1=0.97026274\\n r2=1.42276435\\n r3=1.17680217\\n a1=101.62778541\\n a2=110.70859147\\n d1=180.0\\n', 'whitespace': '\\n\\n\\n\\n\\n\\n\\n\\n\\n\\n'}\n",
      "{'header': '%nproc=28\\n%mem=120GB\\n%chk=/gscratch/ilahie/mccoygrp/coire_hoono/hono/hono_r3_p_005.chk\\n', 'job': '#p SP mp2/aug-cc-pvtz density=current\\n\\n', 'description': 'title\\n\\n', 'charge': '0 1\\n', 'molecule': 'H\\nO 1 r1\\nN 2 r2 1 a1\\nO 3 r3 2 a2 1 d1\\n', 'variables': 'Variables\\n', 'vars': ' r1=0.97026274\\n r2=1.42776435\\n r3=1.1818021699999999\\n a1=101.62778541\\n a2=110.70859147\\n d1=180.0\\n', 'whitespace': '\\n\\n\\n\\n\\n\\n\\n\\n\\n\\n'}\n",
      "[[0.97026274, 1.42776435, 1.17680217], [101.62778541, 110.70859147], [180.0]]\n",
      "{'header': '%nproc=28\\n%mem=120GB\\n%chk=/gscratch/ilahie/mccoygrp/coire_hoono/hono/hono_r3_m_005.chk\\n', 'job': '#p SP mp2/aug-cc-pvtz density=current\\n\\n', 'description': 'title\\n\\n', 'charge': '0 1\\n', 'molecule': 'H\\nO 1 r1\\nN 2 r2 1 a1\\nO 3 r3 2 a2 1 d1\\n', 'variables': 'Variables\\n', 'vars': ' r1=0.97026274\\n r2=1.42776435\\n r3=1.17180217\\n a1=101.62778541\\n a2=110.70859147\\n d1=180.0\\n', 'whitespace': '\\n\\n\\n\\n\\n\\n\\n\\n\\n\\n'}\n"
     ]
    }
   ],
   "source": [
    "print(vals)\n",
    "for i in range(0,3):\n",
    "    pert_vals = copy.deepcopy(vals)\n",
    "    pert_vals[0][i] += 0.005\n",
    "    hono = gt.ZMat(refs=connections, vars = vars, vals=pert_vals)\n",
    "    params = {'header':f'%nproc=28\\n%mem=120GB\\n%chk=/gscratch/ilahie/mccoygrp/coire_hoono/hono/hono_{vars[0][i]}_p_005.chk\\n',\n",
    "              'job': '#p SP mp2/aug-cc-pvtz density=current\\n\\n',\n",
    "              'description': 'title\\n\\n',\n",
    "              'charge':'0 1\\n',\n",
    "              'molecule': hono.write_zmat(),\n",
    "              'variables': 'Variables\\n',\n",
    "              'vars': hono.print_values(),\n",
    "              'whitespace': '\\n\\n\\n\\n\\n\\n\\n\\n\\n\\n'}\n",
    "    job = gt.GaussianJob(params=params, filename=f'hono/hono_{vars[0][i]}_p_005.gjf')\n",
    "    job.save_job()\n",
    "    pert_vals = copy.deepcopy(vals)\n",
    "    print(pert_vals)\n",
    "    pert_vals[0][i] -= 0.005\n",
    "    hono = gt.ZMat(refs=connections, vars = vars, vals=pert_vals)\n",
    "    params = {'header':f'%nproc=28\\n%mem=120GB\\n%chk=/gscratch/ilahie/mccoygrp/coire_hoono/hono/hono_{vars[0][i]}_m_005.chk\\n',\n",
    "              'job': '#p SP mp2/aug-cc-pvtz density=current\\n\\n',\n",
    "              'description': 'title\\n\\n',\n",
    "              'charge':'0 1\\n',\n",
    "              'molecule': hono.write_zmat(),\n",
    "              'variables': 'Variables\\n',\n",
    "              'vars': hono.print_values(),\n",
    "              'whitespace': '\\n\\n\\n\\n\\n\\n\\n\\n\\n\\n'}\n",
    "    job = gt.GaussianJob(params=params, filename=f'hono/hono_{vars[0][i]}_m_005.gjf')\n",
    "    job.save_job()"
   ]
  },
  {
   "cell_type": "code",
   "execution_count": 36,
   "id": "dbf4f727-bf2b-4b38-b2f0-ec42bf097637",
   "metadata": {},
   "outputs": [
    {
     "name": "stdout",
     "output_type": "stream",
     "text": [
      "[[0.97026274, 1.42776435, 1.17680217], [101.62778541, 110.70859147], [180.0]]\n",
      "{'header': '%nproc=28\\n%mem=120GB\\n%chk=/gscratch/ilahie/mccoygrp/coire_hoono/hono/hono_a1_p_5.chk\\n', 'job': '#p SP mp2/aug-cc-pvtz density=current\\n\\n', 'description': 'title\\n\\n', 'charge': '0 1\\n', 'molecule': 'H\\nO 1 r1\\nN 2 r2 1 a1\\nO 3 r3 2 a2 1 d1\\n', 'variables': 'Variables\\n', 'vars': ' r1=0.97026274\\n r2=1.42776435\\n r3=1.17680217\\n a1=102.12778541\\n a2=110.70859147\\n d1=180.0\\n', 'whitespace': '\\n\\n\\n\\n\\n\\n\\n\\n\\n\\n'}\n",
      "[[0.97026274, 1.42776435, 1.17680217], [101.62778541, 110.70859147], [180.0]]\n",
      "{'header': '%nproc=28\\n%mem=120GB\\n%chk=/gscratch/ilahie/mccoygrp/coire_hoono/hono/hono_a1_m_5.chk\\n', 'job': '#p SP mp2/aug-cc-pvtz density=current\\n\\n', 'description': 'title\\n\\n', 'charge': '0 1\\n', 'molecule': 'H\\nO 1 r1\\nN 2 r2 1 a1\\nO 3 r3 2 a2 1 d1\\n', 'variables': 'Variables\\n', 'vars': ' r1=0.97026274\\n r2=1.42776435\\n r3=1.17680217\\n a1=101.12778541\\n a2=110.70859147\\n d1=180.0\\n', 'whitespace': '\\n\\n\\n\\n\\n\\n\\n\\n\\n\\n'}\n",
      "{'header': '%nproc=28\\n%mem=120GB\\n%chk=/gscratch/ilahie/mccoygrp/coire_hoono/hono/hono_a2_p_5.chk\\n', 'job': '#p SP mp2/aug-cc-pvtz density=current\\n\\n', 'description': 'title\\n\\n', 'charge': '0 1\\n', 'molecule': 'H\\nO 1 r1\\nN 2 r2 1 a1\\nO 3 r3 2 a2 1 d1\\n', 'variables': 'Variables\\n', 'vars': ' r1=0.97026274\\n r2=1.42776435\\n r3=1.17680217\\n a1=101.62778541\\n a2=111.20859147\\n d1=180.0\\n', 'whitespace': '\\n\\n\\n\\n\\n\\n\\n\\n\\n\\n'}\n",
      "[[0.97026274, 1.42776435, 1.17680217], [101.62778541, 110.70859147], [180.0]]\n",
      "{'header': '%nproc=28\\n%mem=120GB\\n%chk=/gscratch/ilahie/mccoygrp/coire_hoono/hono/hono_a2_m_5.chk\\n', 'job': '#p SP mp2/aug-cc-pvtz density=current\\n\\n', 'description': 'title\\n\\n', 'charge': '0 1\\n', 'molecule': 'H\\nO 1 r1\\nN 2 r2 1 a1\\nO 3 r3 2 a2 1 d1\\n', 'variables': 'Variables\\n', 'vars': ' r1=0.97026274\\n r2=1.42776435\\n r3=1.17680217\\n a1=101.62778541\\n a2=110.20859147\\n d1=180.0\\n', 'whitespace': '\\n\\n\\n\\n\\n\\n\\n\\n\\n\\n'}\n"
     ]
    }
   ],
   "source": [
    "print(vals)\n",
    "for i in range(0,2):\n",
    "    pert_vals = copy.deepcopy(vals)\n",
    "    pert_vals[1][i] += 0.5\n",
    "    hono = gt.ZMat(refs=connections, vars = vars, vals=pert_vals)\n",
    "    params = {'header':f'%nproc=28\\n%mem=120GB\\n%chk=/gscratch/ilahie/mccoygrp/coire_hoono/hono/hono_{vars[1][i]}_p_5.chk\\n',\n",
    "              'job': '#p SP mp2/aug-cc-pvtz density=current\\n\\n',\n",
    "              'description': 'title\\n\\n',\n",
    "              'charge':'0 1\\n',\n",
    "              'molecule': hono.write_zmat(),\n",
    "              'variables': 'Variables\\n',\n",
    "              'vars': hono.print_values(),\n",
    "              'whitespace': '\\n\\n\\n\\n\\n\\n\\n\\n\\n\\n'}\n",
    "    job = gt.GaussianJob(params=params, filename=f'hono/hono_{vars[1][i]}_p_5.gjf')\n",
    "    job.save_job()\n",
    "    pert_vals = copy.deepcopy(vals)\n",
    "    print(pert_vals)\n",
    "    pert_vals[1][i] -= 0.5\n",
    "    hono = gt.ZMat(refs=connections, vars = vars, vals=pert_vals)\n",
    "    params = {'header':f'%nproc=28\\n%mem=120GB\\n%chk=/gscratch/ilahie/mccoygrp/coire_hoono/hono/hono_{vars[1][i]}_m_5.chk\\n',\n",
    "              'job': '#p SP mp2/aug-cc-pvtz density=current\\n\\n',\n",
    "              'description': 'title\\n\\n',\n",
    "              'charge':'0 1\\n',\n",
    "              'molecule': hono.write_zmat(),\n",
    "              'variables': 'Variables\\n',\n",
    "              'vars': hono.print_values(),\n",
    "              'whitespace': '\\n\\n\\n\\n\\n\\n\\n\\n\\n\\n'}\n",
    "    job = gt.GaussianJob(params=params, filename=f'hono/hono_{vars[1][i]}_m_5.gjf')\n",
    "    job.save_job()"
   ]
  },
  {
   "cell_type": "code",
   "execution_count": 37,
   "id": "edea48a8-c173-4950-a947-1640aa290726",
   "metadata": {},
   "outputs": [
    {
     "name": "stdout",
     "output_type": "stream",
     "text": [
      "[[0.97026274, 1.42776435, 1.17680217], [101.62778541, 110.70859147], [180.0]]\n",
      "{'header': '%nproc=28\\n%mem=120GB\\n%chk=/gscratch/ilahie/mccoygrp/coire_hoono/hono/hono_d1_p_5.chk\\n', 'job': '#p SP mp2/aug-cc-pvtz density=current\\n\\n', 'description': 'title\\n\\n', 'charge': '0 1\\n', 'molecule': 'H\\nO 1 r1\\nN 2 r2 1 a1\\nO 3 r3 2 a2 1 d1\\n', 'variables': 'Variables\\n', 'vars': ' r1=0.97026274\\n r2=1.42776435\\n r3=1.17680217\\n a1=101.62778541\\n a2=110.70859147\\n d1=180.5\\n', 'whitespace': '\\n\\n\\n\\n\\n\\n\\n\\n\\n\\n'}\n",
      "[[0.97026274, 1.42776435, 1.17680217], [101.62778541, 110.70859147], [180.0]]\n",
      "{'header': '%nproc=28\\n%mem=120GB\\n%chk=/gscratch/ilahie/mccoygrp/coire_hoono/hono/hono_d1_m_5.chk\\n', 'job': '#p SP mp2/aug-cc-pvtz density=current\\n\\n', 'description': 'title\\n\\n', 'charge': '0 1\\n', 'molecule': 'H\\nO 1 r1\\nN 2 r2 1 a1\\nO 3 r3 2 a2 1 d1\\n', 'variables': 'Variables\\n', 'vars': ' r1=0.97026274\\n r2=1.42776435\\n r3=1.17680217\\n a1=101.62778541\\n a2=110.70859147\\n d1=179.5\\n', 'whitespace': '\\n\\n\\n\\n\\n\\n\\n\\n\\n\\n'}\n"
     ]
    }
   ],
   "source": [
    "print(vals)\n",
    "for i in range(0,1):\n",
    "    pert_vals = copy.deepcopy(vals)\n",
    "    pert_vals[2][i] += 0.5\n",
    "    hono = gt.ZMat(refs=connections, vars = vars, vals=pert_vals)\n",
    "    params = {'header':f'%nproc=28\\n%mem=120GB\\n%chk=/gscratch/ilahie/mccoygrp/coire_hoono/hono/hono_{vars[2][i]}_p_5.chk\\n',\n",
    "              'job': '#p SP mp2/aug-cc-pvtz density=current\\n\\n',\n",
    "              'description': 'title\\n\\n',\n",
    "              'charge':'0 1\\n',\n",
    "              'molecule': hono.write_zmat(),\n",
    "              'variables': 'Variables\\n',\n",
    "              'vars': hono.print_values(),\n",
    "              'whitespace': '\\n\\n\\n\\n\\n\\n\\n\\n\\n\\n'}\n",
    "    job = gt.GaussianJob(params=params, filename=f'hono/hono_{vars[2][i]}_p_5.gjf')\n",
    "    job.save_job()\n",
    "    pert_vals = copy.deepcopy(vals)\n",
    "    print(pert_vals)\n",
    "    pert_vals[2][i] -= 0.5\n",
    "    hono = gt.ZMat(refs=connections, vars = vars, vals=pert_vals)\n",
    "    params = {'header':f'%nproc=28\\n%mem=120GB\\n%chk=/gscratch/ilahie/mccoygrp/coire_hoono/hono/hono_{vars[2][i]}_m_5.chk\\n',\n",
    "              'job': '#p SP mp2/aug-cc-pvtz density=current\\n\\n',\n",
    "              'description': 'title\\n\\n',\n",
    "              'charge':'0 1\\n',\n",
    "              'molecule': hono.write_zmat(),\n",
    "              'variables': 'Variables\\n',\n",
    "              'vars': hono.print_values(),\n",
    "              'whitespace': '\\n\\n\\n\\n\\n\\n\\n\\n\\n\\n'}\n",
    "    job = gt.GaussianJob(params=params, filename=f'hono/hono_{vars[2][i]}_m_5.gjf')\n",
    "    job.save_job()"
   ]
  },
  {
   "cell_type": "code",
   "execution_count": 38,
   "id": "beb305cc-6877-44b4-8481-81345912c49c",
   "metadata": {},
   "outputs": [
    {
     "name": "stdout",
     "output_type": "stream",
     "text": [
      "[[0.97026274, 1.42776435, 1.17680217], [101.62778541, 110.70859147], [180.0]]\n",
      "{'header': '%nproc=28\\n%mem=120GB\\n%chk=/gscratch/ilahie/mccoygrp/coire_hoono/hono/hono_r1_p_01.chk\\n', 'job': '#p SP mp2/aug-cc-pvtz density=current\\n\\n', 'description': 'title\\n\\n', 'charge': '0 1\\n', 'molecule': 'H\\nO 1 r1\\nN 2 r2 1 a1\\nO 3 r3 2 a2 1 d1\\n', 'variables': 'Variables\\n', 'vars': ' r1=0.98026274\\n r2=1.42776435\\n r3=1.17680217\\n a1=101.62778541\\n a2=110.70859147\\n d1=180.0\\n', 'whitespace': '\\n\\n\\n\\n\\n\\n\\n\\n\\n\\n'}\n",
      "[[0.97026274, 1.42776435, 1.17680217], [101.62778541, 110.70859147], [180.0]]\n",
      "{'header': '%nproc=28\\n%mem=120GB\\n%chk=/gscratch/ilahie/mccoygrp/coire_hoono/hono/hono_r1_m_01.chk\\n', 'job': '#p SP mp2/aug-cc-pvtz density=current\\n\\n', 'description': 'title\\n\\n', 'charge': '0 1\\n', 'molecule': 'H\\nO 1 r1\\nN 2 r2 1 a1\\nO 3 r3 2 a2 1 d1\\n', 'variables': 'Variables\\n', 'vars': ' r1=0.96026274\\n r2=1.42776435\\n r3=1.17680217\\n a1=101.62778541\\n a2=110.70859147\\n d1=180.0\\n', 'whitespace': '\\n\\n\\n\\n\\n\\n\\n\\n\\n\\n'}\n",
      "{'header': '%nproc=28\\n%mem=120GB\\n%chk=/gscratch/ilahie/mccoygrp/coire_hoono/hono/hono_r2_p_01.chk\\n', 'job': '#p SP mp2/aug-cc-pvtz density=current\\n\\n', 'description': 'title\\n\\n', 'charge': '0 1\\n', 'molecule': 'H\\nO 1 r1\\nN 2 r2 1 a1\\nO 3 r3 2 a2 1 d1\\n', 'variables': 'Variables\\n', 'vars': ' r1=0.97026274\\n r2=1.43776435\\n r3=1.17680217\\n a1=101.62778541\\n a2=110.70859147\\n d1=180.0\\n', 'whitespace': '\\n\\n\\n\\n\\n\\n\\n\\n\\n\\n'}\n",
      "[[0.97026274, 1.42776435, 1.17680217], [101.62778541, 110.70859147], [180.0]]\n",
      "{'header': '%nproc=28\\n%mem=120GB\\n%chk=/gscratch/ilahie/mccoygrp/coire_hoono/hono/hono_r2_m_01.chk\\n', 'job': '#p SP mp2/aug-cc-pvtz density=current\\n\\n', 'description': 'title\\n\\n', 'charge': '0 1\\n', 'molecule': 'H\\nO 1 r1\\nN 2 r2 1 a1\\nO 3 r3 2 a2 1 d1\\n', 'variables': 'Variables\\n', 'vars': ' r1=0.97026274\\n r2=1.41776435\\n r3=1.17680217\\n a1=101.62778541\\n a2=110.70859147\\n d1=180.0\\n', 'whitespace': '\\n\\n\\n\\n\\n\\n\\n\\n\\n\\n'}\n",
      "{'header': '%nproc=28\\n%mem=120GB\\n%chk=/gscratch/ilahie/mccoygrp/coire_hoono/hono/hono_r3_p_01.chk\\n', 'job': '#p SP mp2/aug-cc-pvtz density=current\\n\\n', 'description': 'title\\n\\n', 'charge': '0 1\\n', 'molecule': 'H\\nO 1 r1\\nN 2 r2 1 a1\\nO 3 r3 2 a2 1 d1\\n', 'variables': 'Variables\\n', 'vars': ' r1=0.97026274\\n r2=1.42776435\\n r3=1.18680217\\n a1=101.62778541\\n a2=110.70859147\\n d1=180.0\\n', 'whitespace': '\\n\\n\\n\\n\\n\\n\\n\\n\\n\\n'}\n",
      "[[0.97026274, 1.42776435, 1.17680217], [101.62778541, 110.70859147], [180.0]]\n",
      "{'header': '%nproc=28\\n%mem=120GB\\n%chk=/gscratch/ilahie/mccoygrp/coire_hoono/hono/hono_r3_m_01.chk\\n', 'job': '#p SP mp2/aug-cc-pvtz density=current\\n\\n', 'description': 'title\\n\\n', 'charge': '0 1\\n', 'molecule': 'H\\nO 1 r1\\nN 2 r2 1 a1\\nO 3 r3 2 a2 1 d1\\n', 'variables': 'Variables\\n', 'vars': ' r1=0.97026274\\n r2=1.42776435\\n r3=1.16680217\\n a1=101.62778541\\n a2=110.70859147\\n d1=180.0\\n', 'whitespace': '\\n\\n\\n\\n\\n\\n\\n\\n\\n\\n'}\n"
     ]
    }
   ],
   "source": [
    "print(vals)\n",
    "for i in range(0,3):\n",
    "    pert_vals = copy.deepcopy(vals)\n",
    "    pert_vals[0][i] += 0.01\n",
    "    hono = gt.ZMat(refs=connections, vars = vars, vals=pert_vals)\n",
    "    params = {'header':f'%nproc=28\\n%mem=120GB\\n%chk=/gscratch/ilahie/mccoygrp/coire_hoono/hono/hono_{vars[0][i]}_p_01.chk\\n',\n",
    "              'job': '#p SP mp2/aug-cc-pvtz density=current\\n\\n',\n",
    "              'description': 'title\\n\\n',\n",
    "              'charge':'0 1\\n',\n",
    "              'molecule': hono.write_zmat(),\n",
    "              'variables': 'Variables\\n',\n",
    "              'vars': hono.print_values(),\n",
    "              'whitespace': '\\n\\n\\n\\n\\n\\n\\n\\n\\n\\n'}\n",
    "    job = gt.GaussianJob(params=params, filename=f'hono/hono_{vars[0][i]}_p_01.gjf')\n",
    "    job.save_job()\n",
    "    pert_vals = copy.deepcopy(vals)\n",
    "    print(pert_vals)\n",
    "    pert_vals[0][i] -= 0.01\n",
    "    hono = gt.ZMat(refs=connections, vars = vars, vals=pert_vals)\n",
    "    params = {'header':f'%nproc=28\\n%mem=120GB\\n%chk=/gscratch/ilahie/mccoygrp/coire_hoono/hono/hono_{vars[0][i]}_m_01.chk\\n',\n",
    "              'job': '#p SP mp2/aug-cc-pvtz density=current\\n\\n',\n",
    "              'description': 'title\\n\\n',\n",
    "              'charge':'0 1\\n',\n",
    "              'molecule': hono.write_zmat(),\n",
    "              'variables': 'Variables\\n',\n",
    "              'vars': hono.print_values(),\n",
    "              'whitespace': '\\n\\n\\n\\n\\n\\n\\n\\n\\n\\n'}\n",
    "    job = gt.GaussianJob(params=params, filename=f'hono/hono_{vars[0][i]}_m_01.gjf')\n",
    "    job.save_job()"
   ]
  },
  {
   "cell_type": "code",
   "execution_count": 39,
   "id": "78e02554-202c-473a-af16-bf67ae1b2818",
   "metadata": {},
   "outputs": [
    {
     "name": "stdout",
     "output_type": "stream",
     "text": [
      "[[0.97026274, 1.42776435, 1.17680217], [101.62778541, 110.70859147], [180.0]]\n",
      "{'header': '%nproc=28\\n%mem=120GB\\n%chk=/gscratch/ilahie/mccoygrp/coire_hoono/hono/hono_a1_p_10.chk\\n', 'job': '#p SP mp2/aug-cc-pvtz density=current\\n\\n', 'description': 'title\\n\\n', 'charge': '0 1\\n', 'molecule': 'H\\nO 1 r1\\nN 2 r2 1 a1\\nO 3 r3 2 a2 1 d1\\n', 'variables': 'Variables\\n', 'vars': ' r1=0.97026274\\n r2=1.42776435\\n r3=1.17680217\\n a1=102.62778541\\n a2=110.70859147\\n d1=180.0\\n', 'whitespace': '\\n\\n\\n\\n\\n\\n\\n\\n\\n\\n'}\n",
      "[[0.97026274, 1.42776435, 1.17680217], [101.62778541, 110.70859147], [180.0]]\n",
      "{'header': '%nproc=28\\n%mem=120GB\\n%chk=/gscratch/ilahie/mccoygrp/coire_hoono/hono/hono_a1_m_10.chk\\n', 'job': '#p SP mp2/aug-cc-pvtz density=current\\n\\n', 'description': 'title\\n\\n', 'charge': '0 1\\n', 'molecule': 'H\\nO 1 r1\\nN 2 r2 1 a1\\nO 3 r3 2 a2 1 d1\\n', 'variables': 'Variables\\n', 'vars': ' r1=0.97026274\\n r2=1.42776435\\n r3=1.17680217\\n a1=100.62778541\\n a2=110.70859147\\n d1=180.0\\n', 'whitespace': '\\n\\n\\n\\n\\n\\n\\n\\n\\n\\n'}\n",
      "{'header': '%nproc=28\\n%mem=120GB\\n%chk=/gscratch/ilahie/mccoygrp/coire_hoono/hono/hono_a2_p_10.chk\\n', 'job': '#p SP mp2/aug-cc-pvtz density=current\\n\\n', 'description': 'title\\n\\n', 'charge': '0 1\\n', 'molecule': 'H\\nO 1 r1\\nN 2 r2 1 a1\\nO 3 r3 2 a2 1 d1\\n', 'variables': 'Variables\\n', 'vars': ' r1=0.97026274\\n r2=1.42776435\\n r3=1.17680217\\n a1=101.62778541\\n a2=111.70859147\\n d1=180.0\\n', 'whitespace': '\\n\\n\\n\\n\\n\\n\\n\\n\\n\\n'}\n",
      "[[0.97026274, 1.42776435, 1.17680217], [101.62778541, 110.70859147], [180.0]]\n",
      "{'header': '%nproc=28\\n%mem=120GB\\n%chk=/gscratch/ilahie/mccoygrp/coire_hoono/hono/hono_a2_m_10.chk\\n', 'job': '#p SP mp2/aug-cc-pvtz density=current\\n\\n', 'description': 'title\\n\\n', 'charge': '0 1\\n', 'molecule': 'H\\nO 1 r1\\nN 2 r2 1 a1\\nO 3 r3 2 a2 1 d1\\n', 'variables': 'Variables\\n', 'vars': ' r1=0.97026274\\n r2=1.42776435\\n r3=1.17680217\\n a1=101.62778541\\n a2=109.70859147\\n d1=180.0\\n', 'whitespace': '\\n\\n\\n\\n\\n\\n\\n\\n\\n\\n'}\n"
     ]
    }
   ],
   "source": [
    "print(vals)\n",
    "for i in range(0,2):\n",
    "    pert_vals = copy.deepcopy(vals)\n",
    "    pert_vals[1][i] += 1.0\n",
    "    hono = gt.ZMat(refs=connections, vars = vars, vals=pert_vals)\n",
    "    params = {'header':f'%nproc=28\\n%mem=120GB\\n%chk=/gscratch/ilahie/mccoygrp/coire_hoono/hono/hono_{vars[1][i]}_p_10.chk\\n',\n",
    "              'job': '#p SP mp2/aug-cc-pvtz density=current\\n\\n',\n",
    "              'description': 'title\\n\\n',\n",
    "              'charge':'0 1\\n',\n",
    "              'molecule': hono.write_zmat(),\n",
    "              'variables': 'Variables\\n',\n",
    "              'vars': hono.print_values(),\n",
    "              'whitespace': '\\n\\n\\n\\n\\n\\n\\n\\n\\n\\n'}\n",
    "    job = gt.GaussianJob(params=params, filename=f'hono/hono_{vars[1][i]}_p_10.gjf')\n",
    "    job.save_job()\n",
    "    pert_vals = copy.deepcopy(vals)\n",
    "    print(pert_vals)\n",
    "    pert_vals[1][i] -= 1.0\n",
    "    hono = gt.ZMat(refs=connections, vars = vars, vals=pert_vals)\n",
    "    params = {'header':f'%nproc=28\\n%mem=120GB\\n%chk=/gscratch/ilahie/mccoygrp/coire_hoono/hono/hono_{vars[1][i]}_m_10.chk\\n',\n",
    "              'job': '#p SP mp2/aug-cc-pvtz density=current\\n\\n',\n",
    "              'description': 'title\\n\\n',\n",
    "              'charge':'0 1\\n',\n",
    "              'molecule': hono.write_zmat(),\n",
    "              'variables': 'Variables\\n',\n",
    "              'vars': hono.print_values(),\n",
    "              'whitespace': '\\n\\n\\n\\n\\n\\n\\n\\n\\n\\n'}\n",
    "    job = gt.GaussianJob(params=params, filename=f'hono/hono_{vars[1][i]}_m_10.gjf')\n",
    "    job.save_job()"
   ]
  },
  {
   "cell_type": "code",
   "execution_count": 40,
   "id": "47e47453-fc85-4d09-aaa2-532ca2af007f",
   "metadata": {},
   "outputs": [
    {
     "name": "stdout",
     "output_type": "stream",
     "text": [
      "[[0.97026274, 1.42776435, 1.17680217], [101.62778541, 110.70859147], [180.0]]\n",
      "{'header': '%nproc=28\\n%mem=120GB\\n%chk=/gscratch/ilahie/mccoygrp/coire_hoono/hono/hono_d1_p_10.chk\\n', 'job': '#p SP mp2/aug-cc-pvtz density=current\\n\\n', 'description': 'title\\n\\n', 'charge': '0 1\\n', 'molecule': 'H\\nO 1 r1\\nN 2 r2 1 a1\\nO 3 r3 2 a2 1 d1\\n', 'variables': 'Variables\\n', 'vars': ' r1=0.97026274\\n r2=1.42776435\\n r3=1.17680217\\n a1=101.62778541\\n a2=110.70859147\\n d1=181.0\\n', 'whitespace': '\\n\\n\\n\\n\\n\\n\\n\\n\\n\\n'}\n",
      "[[0.97026274, 1.42776435, 1.17680217], [101.62778541, 110.70859147], [180.0]]\n",
      "{'header': '%nproc=28\\n%mem=120GB\\n%chk=/gscratch/ilahie/mccoygrp/coire_hoono/hono/hono_d1_m_10.chk\\n', 'job': '#p SP mp2/aug-cc-pvtz density=current\\n\\n', 'description': 'title\\n\\n', 'charge': '0 1\\n', 'molecule': 'H\\nO 1 r1\\nN 2 r2 1 a1\\nO 3 r3 2 a2 1 d1\\n', 'variables': 'Variables\\n', 'vars': ' r1=0.97026274\\n r2=1.42776435\\n r3=1.17680217\\n a1=101.62778541\\n a2=110.70859147\\n d1=179.0\\n', 'whitespace': '\\n\\n\\n\\n\\n\\n\\n\\n\\n\\n'}\n"
     ]
    }
   ],
   "source": [
    "print(vals)\n",
    "for i in range(0,1):\n",
    "    pert_vals = copy.deepcopy(vals)\n",
    "    pert_vals[2][i] += 1.0\n",
    "    hono = gt.ZMat(refs=connections, vars = vars, vals=pert_vals)\n",
    "    params = {'header':f'%nproc=28\\n%mem=120GB\\n%chk=/gscratch/ilahie/mccoygrp/coire_hoono/hono/hono_{vars[2][i]}_p_10.chk\\n',\n",
    "              'job': '#p SP mp2/aug-cc-pvtz density=current\\n\\n',\n",
    "              'description': 'title\\n\\n',\n",
    "              'charge':'0 1\\n',\n",
    "              'molecule': hono.write_zmat(),\n",
    "              'variables': 'Variables\\n',\n",
    "              'vars': hono.print_values(),\n",
    "              'whitespace': '\\n\\n\\n\\n\\n\\n\\n\\n\\n\\n'}\n",
    "    job = gt.GaussianJob(params=params, filename=f'hono/hono_{vars[2][i]}_p_10.gjf')\n",
    "    job.save_job()\n",
    "    pert_vals = copy.deepcopy(vals)\n",
    "    print(pert_vals)\n",
    "    pert_vals[2][i] -= 1.0\n",
    "    hono = gt.ZMat(refs=connections, vars = vars, vals=pert_vals)\n",
    "    params = {'header':f'%nproc=28\\n%mem=120GB\\n%chk=/gscratch/ilahie/mccoygrp/coire_hoono/hono/hono_{vars[2][i]}_m_10.chk\\n',\n",
    "              'job': '#p SP mp2/aug-cc-pvtz density=current\\n\\n',\n",
    "              'description': 'title\\n\\n',\n",
    "              'charge':'0 1\\n',\n",
    "              'molecule': hono.write_zmat(),\n",
    "              'variables': 'Variables\\n',\n",
    "              'vars': hono.print_values(),\n",
    "              'whitespace': '\\n\\n\\n\\n\\n\\n\\n\\n\\n\\n'}\n",
    "    job = gt.GaussianJob(params=params, filename=f'hono/hono_{vars[2][i]}_m_10.gjf')\n",
    "    job.save_job()"
   ]
  },
  {
   "cell_type": "code",
   "execution_count": 38,
   "id": "de9a0120-6534-48f2-861b-9d123589e40f",
   "metadata": {},
   "outputs": [
    {
     "name": "stdout",
     "output_type": "stream",
     "text": [
      "[[0.97026274, 1.42776435, 1.17680217], [101.62778541, 110.70859147], [180.0]]\n",
      "{'header': '%nproc=28\\n%mem=120GB\\n%chk=/gscratch/ilahie/mccoygrp/coire_hoono/hono/hono_r1_p_01.chk\\n', 'job': '#p SP mp2/aug-cc-pvtz density=current\\n\\n', 'description': 'title\\n\\n', 'charge': '0 1\\n', 'molecule': 'H\\nO 1 r1\\nN 2 r2 1 a1\\nO 3 r3 2 a2 1 d1\\n', 'variables': 'Variables\\n', 'vars': ' r1=0.98026274\\n r2=1.42776435\\n r3=1.17680217\\n a1=101.62778541\\n a2=110.70859147\\n d1=180.0\\n', 'whitespace': '\\n\\n\\n\\n\\n\\n\\n\\n\\n\\n'}\n",
      "[[0.97026274, 1.42776435, 1.17680217], [101.62778541, 110.70859147], [180.0]]\n",
      "{'header': '%nproc=28\\n%mem=120GB\\n%chk=/gscratch/ilahie/mccoygrp/coire_hoono/hono/hono_r1_m_01.chk\\n', 'job': '#p SP mp2/aug-cc-pvtz density=current\\n\\n', 'description': 'title\\n\\n', 'charge': '0 1\\n', 'molecule': 'H\\nO 1 r1\\nN 2 r2 1 a1\\nO 3 r3 2 a2 1 d1\\n', 'variables': 'Variables\\n', 'vars': ' r1=0.96026274\\n r2=1.42776435\\n r3=1.17680217\\n a1=101.62778541\\n a2=110.70859147\\n d1=180.0\\n', 'whitespace': '\\n\\n\\n\\n\\n\\n\\n\\n\\n\\n'}\n",
      "{'header': '%nproc=28\\n%mem=120GB\\n%chk=/gscratch/ilahie/mccoygrp/coire_hoono/hono/hono_r2_p_01.chk\\n', 'job': '#p SP mp2/aug-cc-pvtz density=current\\n\\n', 'description': 'title\\n\\n', 'charge': '0 1\\n', 'molecule': 'H\\nO 1 r1\\nN 2 r2 1 a1\\nO 3 r3 2 a2 1 d1\\n', 'variables': 'Variables\\n', 'vars': ' r1=0.97026274\\n r2=1.43776435\\n r3=1.17680217\\n a1=101.62778541\\n a2=110.70859147\\n d1=180.0\\n', 'whitespace': '\\n\\n\\n\\n\\n\\n\\n\\n\\n\\n'}\n",
      "[[0.97026274, 1.42776435, 1.17680217], [101.62778541, 110.70859147], [180.0]]\n",
      "{'header': '%nproc=28\\n%mem=120GB\\n%chk=/gscratch/ilahie/mccoygrp/coire_hoono/hono/hono_r2_m_01.chk\\n', 'job': '#p SP mp2/aug-cc-pvtz density=current\\n\\n', 'description': 'title\\n\\n', 'charge': '0 1\\n', 'molecule': 'H\\nO 1 r1\\nN 2 r2 1 a1\\nO 3 r3 2 a2 1 d1\\n', 'variables': 'Variables\\n', 'vars': ' r1=0.97026274\\n r2=1.41776435\\n r3=1.17680217\\n a1=101.62778541\\n a2=110.70859147\\n d1=180.0\\n', 'whitespace': '\\n\\n\\n\\n\\n\\n\\n\\n\\n\\n'}\n",
      "{'header': '%nproc=28\\n%mem=120GB\\n%chk=/gscratch/ilahie/mccoygrp/coire_hoono/hono/hono_r3_p_01.chk\\n', 'job': '#p SP mp2/aug-cc-pvtz density=current\\n\\n', 'description': 'title\\n\\n', 'charge': '0 1\\n', 'molecule': 'H\\nO 1 r1\\nN 2 r2 1 a1\\nO 3 r3 2 a2 1 d1\\n', 'variables': 'Variables\\n', 'vars': ' r1=0.97026274\\n r2=1.42776435\\n r3=1.18680217\\n a1=101.62778541\\n a2=110.70859147\\n d1=180.0\\n', 'whitespace': '\\n\\n\\n\\n\\n\\n\\n\\n\\n\\n'}\n",
      "[[0.97026274, 1.42776435, 1.17680217], [101.62778541, 110.70859147], [180.0]]\n",
      "{'header': '%nproc=28\\n%mem=120GB\\n%chk=/gscratch/ilahie/mccoygrp/coire_hoono/hono/hono_r3_m_01.chk\\n', 'job': '#p SP mp2/aug-cc-pvtz density=current\\n\\n', 'description': 'title\\n\\n', 'charge': '0 1\\n', 'molecule': 'H\\nO 1 r1\\nN 2 r2 1 a1\\nO 3 r3 2 a2 1 d1\\n', 'variables': 'Variables\\n', 'vars': ' r1=0.97026274\\n r2=1.42776435\\n r3=1.16680217\\n a1=101.62778541\\n a2=110.70859147\\n d1=180.0\\n', 'whitespace': '\\n\\n\\n\\n\\n\\n\\n\\n\\n\\n'}\n"
     ]
    }
   ],
   "source": [
    "print(vals)\n",
    "for i in range(0,3):\n",
    "    pert_vals = copy.deepcopy(vals)\n",
    "    pert_vals[0][i] += 0.02\n",
    "    hono = gt.ZMat(refs=connections, vars = vars, vals=pert_vals)\n",
    "    params = {'header':f'%nproc=28\\n%mem=120GB\\n%chk=/gscratch/ilahie/mccoygrp/coire_hoono/hono/hono_{vars[0][i]}_p_02.chk\\n',\n",
    "              'job': '#p SP mp2/aug-cc-pvtz density=current\\n\\n',\n",
    "              'description': 'title\\n\\n',\n",
    "              'charge':'0 1\\n',\n",
    "              'molecule': hono.write_zmat(),\n",
    "              'variables': 'Variables\\n',\n",
    "              'vars': hono.print_values(),\n",
    "              'whitespace': '\\n\\n\\n\\n\\n\\n\\n\\n\\n\\n'}\n",
    "    job = gt.GaussianJob(params=params, filename=f'hono/hono_{vars[0][i]}_p_02.gjf')\n",
    "    job.save_job()\n",
    "    pert_vals = copy.deepcopy(vals)\n",
    "    print(pert_vals)\n",
    "    pert_vals[0][i] -= 0.02\n",
    "    hono = gt.ZMat(refs=connections, vars = vars, vals=pert_vals)\n",
    "    params = {'header':f'%nproc=28\\n%mem=120GB\\n%chk=/gscratch/ilahie/mccoygrp/coire_hoono/hono/hono_{vars[0][i]}_m_02.chk\\n',\n",
    "              'job': '#p SP mp2/aug-cc-pvtz density=current\\n\\n',\n",
    "              'description': 'title\\n\\n',\n",
    "              'charge':'0 1\\n',\n",
    "              'molecule': hono.write_zmat(),\n",
    "              'variables': 'Variables\\n',\n",
    "              'vars': hono.print_values(),\n",
    "              'whitespace': '\\n\\n\\n\\n\\n\\n\\n\\n\\n\\n'}\n",
    "    job = gt.GaussianJob(params=params, filename=f'hono/hono_{vars[0][i]}_m_02.gjf')\n",
    "    job.save_job()"
   ]
  },
  {
   "cell_type": "code",
   "execution_count": 39,
   "id": "63249cbd-e970-4ae0-a147-a01a6cfa4850",
   "metadata": {},
   "outputs": [
    {
     "name": "stdout",
     "output_type": "stream",
     "text": [
      "[[0.97026274, 1.42776435, 1.17680217], [101.62778541, 110.70859147], [180.0]]\n",
      "{'header': '%nproc=28\\n%mem=120GB\\n%chk=/gscratch/ilahie/mccoygrp/coire_hoono/hono/hono_a1_p_10.chk\\n', 'job': '#p SP mp2/aug-cc-pvtz density=current\\n\\n', 'description': 'title\\n\\n', 'charge': '0 1\\n', 'molecule': 'H\\nO 1 r1\\nN 2 r2 1 a1\\nO 3 r3 2 a2 1 d1\\n', 'variables': 'Variables\\n', 'vars': ' r1=0.97026274\\n r2=1.42776435\\n r3=1.17680217\\n a1=102.62778541\\n a2=110.70859147\\n d1=180.0\\n', 'whitespace': '\\n\\n\\n\\n\\n\\n\\n\\n\\n\\n'}\n",
      "[[0.97026274, 1.42776435, 1.17680217], [101.62778541, 110.70859147], [180.0]]\n",
      "{'header': '%nproc=28\\n%mem=120GB\\n%chk=/gscratch/ilahie/mccoygrp/coire_hoono/hono/hono_a1_m_10.chk\\n', 'job': '#p SP mp2/aug-cc-pvtz density=current\\n\\n', 'description': 'title\\n\\n', 'charge': '0 1\\n', 'molecule': 'H\\nO 1 r1\\nN 2 r2 1 a1\\nO 3 r3 2 a2 1 d1\\n', 'variables': 'Variables\\n', 'vars': ' r1=0.97026274\\n r2=1.42776435\\n r3=1.17680217\\n a1=100.62778541\\n a2=110.70859147\\n d1=180.0\\n', 'whitespace': '\\n\\n\\n\\n\\n\\n\\n\\n\\n\\n'}\n",
      "{'header': '%nproc=28\\n%mem=120GB\\n%chk=/gscratch/ilahie/mccoygrp/coire_hoono/hono/hono_a2_p_10.chk\\n', 'job': '#p SP mp2/aug-cc-pvtz density=current\\n\\n', 'description': 'title\\n\\n', 'charge': '0 1\\n', 'molecule': 'H\\nO 1 r1\\nN 2 r2 1 a1\\nO 3 r3 2 a2 1 d1\\n', 'variables': 'Variables\\n', 'vars': ' r1=0.97026274\\n r2=1.42776435\\n r3=1.17680217\\n a1=101.62778541\\n a2=111.70859147\\n d1=180.0\\n', 'whitespace': '\\n\\n\\n\\n\\n\\n\\n\\n\\n\\n'}\n",
      "[[0.97026274, 1.42776435, 1.17680217], [101.62778541, 110.70859147], [180.0]]\n",
      "{'header': '%nproc=28\\n%mem=120GB\\n%chk=/gscratch/ilahie/mccoygrp/coire_hoono/hono/hono_a2_m_10.chk\\n', 'job': '#p SP mp2/aug-cc-pvtz density=current\\n\\n', 'description': 'title\\n\\n', 'charge': '0 1\\n', 'molecule': 'H\\nO 1 r1\\nN 2 r2 1 a1\\nO 3 r3 2 a2 1 d1\\n', 'variables': 'Variables\\n', 'vars': ' r1=0.97026274\\n r2=1.42776435\\n r3=1.17680217\\n a1=101.62778541\\n a2=109.70859147\\n d1=180.0\\n', 'whitespace': '\\n\\n\\n\\n\\n\\n\\n\\n\\n\\n'}\n"
     ]
    }
   ],
   "source": [
    "print(vals)\n",
    "for i in range(0,2):\n",
    "    pert_vals = copy.deepcopy(vals)\n",
    "    pert_vals[1][i] += 1.0\n",
    "    hono = gt.ZMat(refs=connections, vars = vars, vals=pert_vals)\n",
    "    params = {'header':f'%nproc=28\\n%mem=120GB\\n%chk=/gscratch/ilahie/mccoygrp/coire_hoono/hono/hono_{vars[1][i]}_p_10.chk\\n',\n",
    "              'job': '#p SP mp2/aug-cc-pvtz density=current\\n\\n',\n",
    "              'description': 'title\\n\\n',\n",
    "              'charge':'0 1\\n',\n",
    "              'molecule': hono.write_zmat(),\n",
    "              'variables': 'Variables\\n',\n",
    "              'vars': hono.print_values(),\n",
    "              'whitespace': '\\n\\n\\n\\n\\n\\n\\n\\n\\n\\n'}\n",
    "    job = gt.GaussianJob(params=params, filename=f'hono/hono_{vars[1][i]}_p_10.gjf')\n",
    "    job.save_job()\n",
    "    pert_vals = copy.deepcopy(vals)\n",
    "    print(pert_vals)\n",
    "    pert_vals[1][i] -= 1.0\n",
    "    hono = gt.ZMat(refs=connections, vars = vars, vals=pert_vals)\n",
    "    params = {'header':f'%nproc=28\\n%mem=120GB\\n%chk=/gscratch/ilahie/mccoygrp/coire_hoono/hono/hono_{vars[1][i]}_m_10.chk\\n',\n",
    "              'job': '#p SP mp2/aug-cc-pvtz density=current\\n\\n',\n",
    "              'description': 'title\\n\\n',\n",
    "              'charge':'0 1\\n',\n",
    "              'molecule': hono.write_zmat(),\n",
    "              'variables': 'Variables\\n',\n",
    "              'vars': hono.print_values(),\n",
    "              'whitespace': '\\n\\n\\n\\n\\n\\n\\n\\n\\n\\n'}\n",
    "    job = gt.GaussianJob(params=params, filename=f'hono/hono_{vars[1][i]}_m_10.gjf')\n",
    "    job.save_job()"
   ]
  },
  {
   "cell_type": "code",
   "execution_count": 40,
   "id": "77c853e5-af67-4f86-99ff-70e573b7f9dc",
   "metadata": {},
   "outputs": [
    {
     "name": "stdout",
     "output_type": "stream",
     "text": [
      "[[0.97026274, 1.42776435, 1.17680217], [101.62778541, 110.70859147], [180.0]]\n",
      "{'header': '%nproc=28\\n%mem=120GB\\n%chk=/gscratch/ilahie/mccoygrp/coire_hoono/hono/hono_d1_p_10.chk\\n', 'job': '#p SP mp2/aug-cc-pvtz density=current\\n\\n', 'description': 'title\\n\\n', 'charge': '0 1\\n', 'molecule': 'H\\nO 1 r1\\nN 2 r2 1 a1\\nO 3 r3 2 a2 1 d1\\n', 'variables': 'Variables\\n', 'vars': ' r1=0.97026274\\n r2=1.42776435\\n r3=1.17680217\\n a1=101.62778541\\n a2=110.70859147\\n d1=181.0\\n', 'whitespace': '\\n\\n\\n\\n\\n\\n\\n\\n\\n\\n'}\n",
      "[[0.97026274, 1.42776435, 1.17680217], [101.62778541, 110.70859147], [180.0]]\n",
      "{'header': '%nproc=28\\n%mem=120GB\\n%chk=/gscratch/ilahie/mccoygrp/coire_hoono/hono/hono_d1_m_10.chk\\n', 'job': '#p SP mp2/aug-cc-pvtz density=current\\n\\n', 'description': 'title\\n\\n', 'charge': '0 1\\n', 'molecule': 'H\\nO 1 r1\\nN 2 r2 1 a1\\nO 3 r3 2 a2 1 d1\\n', 'variables': 'Variables\\n', 'vars': ' r1=0.97026274\\n r2=1.42776435\\n r3=1.17680217\\n a1=101.62778541\\n a2=110.70859147\\n d1=179.0\\n', 'whitespace': '\\n\\n\\n\\n\\n\\n\\n\\n\\n\\n'}\n"
     ]
    }
   ],
   "source": [
    "print(vals)\n",
    "for i in range(0,1):\n",
    "    pert_vals = copy.deepcopy(vals)\n",
    "    pert_vals[2][i] += 1.0\n",
    "    hono = gt.ZMat(refs=connections, vars = vars, vals=pert_vals)\n",
    "    params = {'header':f'%nproc=28\\n%mem=120GB\\n%chk=/gscratch/ilahie/mccoygrp/coire_hoono/hono/hono_{vars[2][i]}_p_10.chk\\n',\n",
    "              'job': '#p SP mp2/aug-cc-pvtz density=current\\n\\n',\n",
    "              'description': 'title\\n\\n',\n",
    "              'charge':'0 1\\n',\n",
    "              'molecule': hono.write_zmat(),\n",
    "              'variables': 'Variables\\n',\n",
    "              'vars': hono.print_values(),\n",
    "              'whitespace': '\\n\\n\\n\\n\\n\\n\\n\\n\\n\\n'}\n",
    "    job = gt.GaussianJob(params=params, filename=f'hono/hono_{vars[2][i]}_p_10.gjf')\n",
    "    job.save_job()\n",
    "    pert_vals = copy.deepcopy(vals)\n",
    "    print(pert_vals)\n",
    "    pert_vals[2][i] -= 1.0\n",
    "    hono = gt.ZMat(refs=connections, vars = vars, vals=pert_vals)\n",
    "    params = {'header':f'%nproc=28\\n%mem=120GB\\n%chk=/gscratch/ilahie/mccoygrp/coire_hoono/hono/hono_{vars[2][i]}_m_10.chk\\n',\n",
    "              'job': '#p SP mp2/aug-cc-pvtz density=current\\n\\n',\n",
    "              'description': 'title\\n\\n',\n",
    "              'charge':'0 1\\n',\n",
    "              'molecule': hono.write_zmat(),\n",
    "              'variables': 'Variables\\n',\n",
    "              'vars': hono.print_values(),\n",
    "              'whitespace': '\\n\\n\\n\\n\\n\\n\\n\\n\\n\\n'}\n",
    "    job = gt.GaussianJob(params=params, filename=f'hono/hono_{vars[2][i]}_m_10.gjf')\n",
    "    job.save_job()"
   ]
  },
  {
   "cell_type": "code",
   "execution_count": null,
   "id": "32795ec0-2adf-4ac8-b770-a39dc7d0e3cb",
   "metadata": {},
   "outputs": [],
   "source": [
    "hono_ = ['oop_s_rOH_opt/clhocl/clhocl_0_sp.fchk']"
   ]
  }
 ],
 "metadata": {
  "kernelspec": {
   "display_name": "Python 3",
   "language": "python",
   "name": "python3"
  },
  "language_info": {
   "codemirror_mode": {
    "name": "ipython",
    "version": 3
   },
   "file_extension": ".py",
   "mimetype": "text/x-python",
   "name": "python",
   "nbconvert_exporter": "python",
   "pygments_lexer": "ipython3",
   "version": "3.8.8"
  }
 },
 "nbformat": 4,
 "nbformat_minor": 5
}
