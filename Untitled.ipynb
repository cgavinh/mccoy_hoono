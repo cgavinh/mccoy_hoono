{
 "cells": [
  {
   "cell_type": "code",
   "execution_count": 1,
   "id": "410221ae-4fe1-40ca-9674-6358f9f90ff2",
   "metadata": {},
   "outputs": [
    {
     "data": {
      "application/vnd.jupyter.widget-view+json": {
       "model_id": "1d99a6f2037e4013ba3b12c78da26415",
       "version_major": 2,
       "version_minor": 0
      },
      "text/plain": []
     },
     "metadata": {},
     "output_type": "display_data"
    }
   ],
   "source": [
    "import sys\n",
    "import os\n",
    "sys.path.append('../CGH_Toolbox/')\n",
    "import matplotlib.pyplot as plt\n",
    "from matplotlib import ticker, cm\n",
    "from matplotlib.colors import LogNorm\n",
    "import numpy as np\n",
    "import nglview as nv\n",
    "import MDAnalysis as mda\n",
    "import pyvibdmc as pv\n",
    "import utilities as uts\n",
    "import gaussian_tools as gt\n",
    "import misc\n",
    "import glob\n",
    "import pandas as pd\n",
    "import pickle\n",
    "from scipy import interpolate\n",
    "import dvr, utilities, dvr_arrays\n",
    "from McUtils import Data as McData\n",
    "import copy"
   ]
  },
  {
   "cell_type": "markdown",
   "id": "798175c4-09b0-4bf9-a794-b8bd7e881a5d",
   "metadata": {},
   "source": [
    "# Outstanding questions:"
   ]
  },
  {
   "cell_type": "markdown",
   "id": "846dd654-f190-4c74-9569-183af2c6a6b3",
   "metadata": {},
   "source": [
    "## What is the overall goal? Why am I doing this?"
   ]
  },
  {
   "cell_type": "markdown",
   "id": "bc070f09-09b7-4f3a-90be-2440b897ea33",
   "metadata": {},
   "source": [
    "## Why HOONO?"
   ]
  },
  {
   "cell_type": "markdown",
   "id": "5937bb5c-0aef-4b1b-bba1-4adaeb7dc83a",
   "metadata": {},
   "source": [
    "# 2nd-Derivative of potential v coordinate displacement"
   ]
  },
  {
   "cell_type": "markdown",
   "id": "207d4413-3645-4743-999f-c70f7c5ed1de",
   "metadata": {},
   "source": [
    "- I can generate a series of SP calculations that change the energy by 10, 15, 20, 25 wavenumbers, etc. \n",
    "- I then need to pull the input geometry and energy from each scan\n",
    "- From there I can figure out which coordinate was changed, by how much, and how much the energy actually changed.\n",
    "- From there I need to calculate the 2nd derivative of the potential with finite difference and compare it to the 2nd derivative from gaussian"
   ]
  },
  {
   "cell_type": "markdown",
   "id": "3271eed6-b8ff-477d-9ad4-432d2bee7557",
   "metadata": {},
   "source": [
    "What pieces do I still need?\n",
    "- I need to be able to calculate derivatives"
   ]
  },
  {
   "cell_type": "markdown",
   "id": "6281691c-e9ef-4dc3-b514-afae7d33cb73",
   "metadata": {},
   "source": [
    "How should I pull the information from gaussian?\n",
    "```\n",
    "results = {'filenames': []\n",
    "             'disp_coords':[]\n",
    "             'disp_vals': []\n",
    "             'coord_units': []\n",
    "             'disp_energys: []\n",
    "             }\n",
    "             \n",
    "\n",
    "            "
   ]
  },
  {
   "cell_type": "code",
   "execution_count": 2,
   "id": "5066ddfb-afc9-452a-afa4-ae3a8c53a75a",
   "metadata": {},
   "outputs": [],
   "source": [
    "hoono_eq_energy = -280.4467347"
   ]
  },
  {
   "cell_type": "code",
   "execution_count": 3,
   "id": "1c55ba88-8a0f-4d25-a441-cab1bac8aa93",
   "metadata": {},
   "outputs": [
    {
     "name": "stderr",
     "output_type": "stream",
     "text": [
      "<ipython-input-3-eb58ad143722>:2: VisibleDeprecationWarning: Creating an ndarray from ragged nested sequences (which is a list-or-tuple of lists-or-tuples-or ndarrays with different lengths or shapes) is deprecated. If you meant to do this, you must specify 'dtype=object' when creating the ndarray.\n",
      "  specs = np.array([[1, 2, 3, 4], [1, 2, 3], [1, 2]])\n",
      "<ipython-input-3-eb58ad143722>:3: VisibleDeprecationWarning: Creating an ndarray from ragged nested sequences (which is a list-or-tuple of lists-or-tuples-or ndarrays with different lengths or shapes) is deprecated. If you meant to do this, you must specify 'dtype=object' when creating the ndarray.\n",
      "  names = np.array([['r1', 'r2', 'r3', 'r4'], ['a1', 'a2', 'a3'], ['d1', 'd2']])\n",
      "<ipython-input-3-eb58ad143722>:4: VisibleDeprecationWarning: Creating an ndarray from ragged nested sequences (which is a list-or-tuple of lists-or-tuples-or ndarrays with different lengths or shapes) is deprecated. If you meant to do this, you must specify 'dtype=object' when creating the ndarray.\n",
      "  vals = np.array([[0.96897556, 1.45491931, 1.45878406, 1.17072885],\n"
     ]
    }
   ],
   "source": [
    "atoms = ['H', 'O', 'O', 'N', 'O']\n",
    "specs = np.array([[1, 2, 3, 4], [1, 2, 3], [1, 2]])\n",
    "names = np.array([['r1', 'r2', 'r3', 'r4'], ['a1', 'a2', 'a3'], ['d1', 'd2']])\n",
    "vals = np.array([[0.96897556, 1.45491931, 1.45878406, 1.17072885],\n",
    "                 [97.59494903, 102.29752444, 109.06955123],\n",
    "                 [180., 180.]])\n",
    "units = [\"Angstroms\", \"Degrees\"]\n",
    "hoono_eq = misc.zmat(atoms=atoms, easy_build_dict={'specs':specs, 'names':names, 'vals':vals, 'units':units})"
   ]
  },
  {
   "cell_type": "code",
   "execution_count": 4,
   "id": "4121f09d-462a-47e3-b1e7-92c78657ba22",
   "metadata": {},
   "outputs": [],
   "source": [
    "hoono_eq_log = gt.GLogInterpreter(log_files='../mccoy_hoono/hoono_eq.log')\n",
    "hoono_eq_log.pull_forces()"
   ]
  },
  {
   "cell_type": "code",
   "execution_count": 5,
   "id": "8b44e0d4-a707-46cd-813d-4c82566a9606",
   "metadata": {},
   "outputs": [],
   "source": [
    "forces = misc.convert_force_units(eq_zmat=hoono_eq, force_constants=hoono_eq_log.force_constants)"
   ]
  },
  {
   "cell_type": "code",
   "execution_count": 6,
   "id": "507ec789-9e13-4348-8bdf-7ccf6f8197fc",
   "metadata": {},
   "outputs": [
    {
     "name": "stdout",
     "output_type": "stream",
     "text": [
      "401567.88622114423\n",
      "220493.89272176367\n",
      "91863.50739534566\n",
      "636473.5235528407\n",
      "14.49119433185497\n",
      "18.902206034701653\n",
      "32.26975500462167\n",
      "-0.5193839588368713\n",
      "2.7477397841878695\n"
     ]
    }
   ],
   "source": [
    "for i in range(len(forces)):\n",
    "    print(forces[i][i])"
   ]
  },
  {
   "cell_type": "markdown",
   "id": "4864852a-bfa9-4ba3-b9ac-5a57b977384b",
   "metadata": {},
   "source": [
    "## 20 cm displacements"
   ]
  },
  {
   "cell_type": "code",
   "execution_count": 7,
   "id": "e52ae611-0bb4-4e9c-b099-b65cb4a213ad",
   "metadata": {},
   "outputs": [],
   "source": [
    "files=['../mccoy_hoono/explore_disps/hoono_r3_1p437917',\n",
    "       '../mccoy_hoono/explore_disps/hoono_a2_100p8428',\n",
    "       '../mccoy_hoono/explore_disps/hoono_d1_188p7757',\n",
    "       '../mccoy_hoono/explore_disps/hoono_a3_110p1829',\n",
    "       '../mccoy_hoono/explore_disps/hoono_r4_1p162801',\n",
    "       '../mccoy_hoono/explore_disps/hoono_r4_1p178656',\n",
    "       '../mccoy_hoono/explore_disps/hoono_a1_99p25636',\n",
    "       '../mccoy_hoono/explore_disps/hoono_d1_171p2242',\n",
    "       '../mccoy_hoono/explore_disps/hoono_a2_103p7522',\n",
    "       '../mccoy_hoono/explore_disps/hoono_r1_0p958995',\n",
    "       '../mccoy_hoono/explore_disps/hoono_r1_0p978956',\n",
    "       '../mccoy_hoono/explore_disps/hoono_a3_107p9562',\n",
    "       '../mccoy_hoono/explore_disps/hoono_r3_1p479650',\n",
    "       '../mccoy_hoono/explore_disps/hoono_a1_95p93353',\n",
    "       '../mccoy_hoono/explore_disps/hoono_r2_1p441450',\n",
    "       '../mccoy_hoono/explore_disps/hoono_r2_1p468388']"
   ]
  },
  {
   "cell_type": "code",
   "execution_count": 9,
   "id": "468c7471-1554-412f-9439-2237c59fd9c0",
   "metadata": {},
   "outputs": [],
   "source": [
    "hoono_eq_energy = -280.4467347"
   ]
  },
  {
   "cell_type": "code",
   "execution_count": 10,
   "id": "e2aaa87c-4c06-4126-9143-6337c410f8a8",
   "metadata": {},
   "outputs": [],
   "source": [
    "results = misc.pull_displaced_results(eq_zmat=hoono_eq,\n",
    "                                          eq_energy=hoono_eq_energy,\n",
    "                                          files=files,\n",
    "                                          sec_der=True)"
   ]
  },
  {
   "cell_type": "code",
   "execution_count": 11,
   "id": "9e838b9b-dfe9-4b2b-9192-b0ef5d38b6b5",
   "metadata": {},
   "outputs": [
    {
     "data": {
      "text/plain": [
       "{'r3': {'filenames': ['../mccoy_hoono/explore_disps/hoono_r3_1p437917',\n",
       "   '../mccoy_hoono/explore_disps/hoono_r3_1p479650'],\n",
       "  'disp_vals': [-0.02086405999999985, 0.02086593999999997],\n",
       "  'disp_units': ['Angstroms', 'Angstroms'],\n",
       "  'disp_energies': [20.33404849615159, 19.738964185233865],\n",
       "  '2nd_der': 92056.47645813132},\n",
       " 'a2': {'filenames': ['../mccoy_hoono/explore_disps/hoono_a2_100p8428',\n",
       "   '../mccoy_hoono/explore_disps/hoono_a2_103p7522'],\n",
       "  'disp_vals': [-1.4547044400000004, 1.4547055599999936],\n",
       "  'disp_units': ['Degrees', 'Degrees'],\n",
       "  'disp_energies': [20.15277258929681, 19.84383383634404],\n",
       "  '2nd_der': 18.90051403319394},\n",
       " 'd1': {'filenames': ['../mccoy_hoono/explore_disps/hoono_d1_188p7757',\n",
       "   '../mccoy_hoono/explore_disps/hoono_d1_171p2242'],\n",
       "  'disp_vals': [8.775779999999997, -8.775779999999997],\n",
       "  'disp_units': ['Degrees', 'Degrees'],\n",
       "  'disp_energies': [-19.81224284827506, -19.81224278589662],\n",
       "  '2nd_der': -0.5145080604255593},\n",
       " 'a3': {'filenames': ['../mccoy_hoono/explore_disps/hoono_a3_110p1829',\n",
       "   '../mccoy_hoono/explore_disps/hoono_a3_107p9562'],\n",
       "  'disp_vals': [1.1133487700000018, -1.1133512300000064],\n",
       "  'disp_units': ['Degrees', 'Degrees'],\n",
       "  'disp_energies': [19.990700933769396, 19.99040472349972],\n",
       "  '2nd_der': 32.25464993765329},\n",
       " 'r4': {'filenames': ['../mccoy_hoono/explore_disps/hoono_r4_1p162801',\n",
       "   '../mccoy_hoono/explore_disps/hoono_r4_1p178656'],\n",
       "  'disp_vals': [-0.007928849999999876, 0.007931150000000109],\n",
       "  'disp_units': ['Angstroms', 'Angstroms'],\n",
       "  'disp_energies': [21.67033319144641, 18.31555882605577],\n",
       "  '2nd_der': 636042.8650145223},\n",
       " 'a1': {'filenames': ['../mccoy_hoono/explore_disps/hoono_a1_99p25636',\n",
       "   '../mccoy_hoono/explore_disps/hoono_a1_95p93353'],\n",
       "  'disp_vals': [1.6614109700000057, -1.6614190299999905],\n",
       "  'disp_units': ['Degrees', 'Degrees'],\n",
       "  'disp_energies': [20.622296469601384, 19.352340094107603],\n",
       "  '2nd_der': 14.482061137200594},\n",
       " 'r1': {'filenames': ['../mccoy_hoono/explore_disps/hoono_r1_0p958995',\n",
       "   '../mccoy_hoono/explore_disps/hoono_r1_0p978956'],\n",
       "  'disp_vals': [-0.009975559999999994, 0.009984440000000094],\n",
       "  'disp_units': ['Angstroms', 'Angstroms'],\n",
       "  'disp_energies': [20.441861274436494, 19.54700854017848],\n",
       "  '2nd_der': 401850.5432938236},\n",
       " 'r2': {'filenames': ['../mccoy_hoono/explore_disps/hoono_r2_1p441450',\n",
       "   '../mccoy_hoono/explore_disps/hoono_r2_1p468388'],\n",
       "  'disp_vals': [-0.013469310000000068, 0.013470690000000118],\n",
       "  'disp_units': ['Angstroms', 'Angstroms'],\n",
       "  'disp_energies': [19.142064187577798, 20.849367746688177],\n",
       "  '2nd_der': 220432.82064213356}}"
      ]
     },
     "execution_count": 11,
     "metadata": {},
     "output_type": "execute_result"
    }
   ],
   "source": [
    "results"
   ]
  },
  {
   "cell_type": "markdown",
   "id": "5975d4b0-a399-4dc2-84e1-db03ab9c7a76",
   "metadata": {},
   "source": [
    "## 10 cm-1 displacements"
   ]
  },
  {
   "cell_type": "code",
   "execution_count": 14,
   "id": "e40cd08b-fb59-4e4e-adaa-0e7f3e54cb84",
   "metadata": {},
   "outputs": [],
   "source": [
    "params = {\n",
    "                'header': f'%nproc=28\\n%mem=120GB\\n%chk=',\n",
    "                'job': '#p SP mp2/aug-cc-pvtz density=current\\n\\n',\n",
    "                'description': 'title\\n\\n',\n",
    "                'charge': '0 1\\n',\n",
    "                'molecule': '',\n",
    "                'variables': 'Variables\\n',\n",
    "                'vars': '',\n",
    "                'whitespace': '\\n'*10}"
   ]
  },
  {
   "cell_type": "code",
   "execution_count": 15,
   "id": "db85b620-3693-47a6-b218-31da7a33ee60",
   "metadata": {},
   "outputs": [],
   "source": [
    "misc.write_displaced_zmats(eq_zmat=hoono_eq,\n",
    "                           disp_en=10,\n",
    "                           force_constants=hoono_eq_log.force_constants,\n",
    "                           fname_base='hoono',\n",
    "                           params=params,\n",
    "                           job_file_path='../mccoy_hoono/10cm_disp/')"
   ]
  },
  {
   "cell_type": "code",
   "execution_count": null,
   "id": "1aa41c58-ba50-484d-80b6-3ff9be602a85",
   "metadata": {},
   "outputs": [],
   "source": []
  }
 ],
 "metadata": {
  "kernelspec": {
   "display_name": "Python 3",
   "language": "python",
   "name": "python3"
  },
  "language_info": {
   "codemirror_mode": {
    "name": "ipython",
    "version": 3
   },
   "file_extension": ".py",
   "mimetype": "text/x-python",
   "name": "python",
   "nbconvert_exporter": "python",
   "pygments_lexer": "ipython3",
   "version": "3.8.8"
  }
 },
 "nbformat": 4,
 "nbformat_minor": 5
}
