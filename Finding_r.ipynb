{
 "cells": [
  {
   "cell_type": "markdown",
   "id": "8d39f223-560c-40bb-a9df-91db414f7f94",
   "metadata": {},
   "source": [
    "# WHERE IS R?"
   ]
  },
  {
   "cell_type": "markdown",
   "id": "9a8d33e3-f99b-4cdc-b952-88d7c7d64a22",
   "metadata": {},
   "source": [
    "find the r value that will give a displacement of about 20 wavenumbers (include flex for target) for each coordinate from an equilibrium scan"
   ]
  },
  {
   "cell_type": "code",
   "execution_count": 96,
   "id": "7fdc79a6-a8a2-4eb1-92a9-dd4582a211a0",
   "metadata": {},
   "outputs": [],
   "source": [
    "import sys\n",
    "import os\n",
    "sys.path.append('../CGH_Toolbox/')\n",
    "import matplotlib.pyplot as plt\n",
    "from matplotlib import ticker, cm\n",
    "from matplotlib.colors import LogNorm\n",
    "import numpy as np\n",
    "import nglview as nv\n",
    "import MDAnalysis as mda\n",
    "import pyvibdmc as pv\n",
    "import utilities as uts\n",
    "import gaussian_tools as gt\n",
    "import misc\n",
    "import glob\n",
    "import pandas as pd\n",
    "import pickle\n",
    "from scipy import interpolate\n",
    "import dvr, utilities, dvr_arrays\n",
    "from McUtils import Data as McData\n",
    "import copy"
   ]
  },
  {
   "cell_type": "markdown",
   "id": "a670a06a-9037-47eb-a7f6-1cb1dc7af03f",
   "metadata": {},
   "source": [
    "- compare HONO and HOONO\n",
    "- \"representative displacements\"\n",
    "- \n"
   ]
  },
  {
   "cell_type": "code",
   "execution_count": null,
   "id": "b7eda292-f865-4fec-88e0-7de0433c7613",
   "metadata": {},
   "outputs": [],
   "source": [
    "hono_eq = gt.GLogInterpreter('hono_first')"
   ]
  },
  {
   "cell_type": "code",
   "execution_count": null,
   "id": "ba259456-1b05-4ae5-882d-56112eaab7ce",
   "metadata": {},
   "outputs": [],
   "source": [
    "hono_eq.pull_forces()"
   ]
  },
  {
   "cell_type": "code",
   "execution_count": null,
   "id": "c4682da9-2c19-4e7d-a2fa-4778c70e6fb3",
   "metadata": {},
   "outputs": [],
   "source": [
    "hono_eq.force_constants"
   ]
  },
  {
   "cell_type": "code",
   "execution_count": 19,
   "id": "79ab7f09-5d91-4752-8f37-cf31685e8228",
   "metadata": {},
   "outputs": [],
   "source": [
    "arr = np.zeros((10, 10))"
   ]
  },
  {
   "cell_type": "code",
   "execution_count": 24,
   "id": "b79ab91d-a6c1-4751-b5a7-b897053dfe8a",
   "metadata": {},
   "outputs": [],
   "source": [
    "arr[:,4] = arr[:,4] + 2"
   ]
  },
  {
   "cell_type": "code",
   "execution_count": 25,
   "id": "aeb0f847-b741-4e13-81b5-6b7dd5b98ae5",
   "metadata": {},
   "outputs": [
    {
     "data": {
      "text/plain": [
       "array([[0., 0., 0., 0., 2., 0., 0., 0., 0., 0.],\n",
       "       [0., 0., 0., 0., 2., 0., 0., 0., 0., 0.],\n",
       "       [0., 0., 0., 0., 2., 0., 0., 0., 0., 0.],\n",
       "       [0., 0., 0., 0., 2., 0., 0., 0., 0., 0.],\n",
       "       [2., 2., 2., 2., 6., 2., 2., 2., 2., 2.],\n",
       "       [0., 0., 0., 0., 2., 0., 0., 0., 0., 0.],\n",
       "       [0., 0., 0., 0., 2., 0., 0., 0., 0., 0.],\n",
       "       [0., 0., 0., 0., 2., 0., 0., 0., 0., 0.],\n",
       "       [0., 0., 0., 0., 2., 0., 0., 0., 0., 0.],\n",
       "       [0., 0., 0., 0., 2., 0., 0., 0., 0., 0.]])"
      ]
     },
     "execution_count": 25,
     "metadata": {},
     "output_type": "execute_result"
    }
   ],
   "source": [
    "arr"
   ]
  },
  {
   "cell_type": "code",
   "execution_count": 91,
   "id": "880c07e9-50e6-42c2-a06b-1e364c69577f",
   "metadata": {},
   "outputs": [],
   "source": [
    "arr = np.full((4,4), str(''),dtype='<U10')"
   ]
  },
  {
   "cell_type": "code",
   "execution_count": 92,
   "id": "6de400d0-a516-4021-8a86-45337c4c8b88",
   "metadata": {},
   "outputs": [
    {
     "data": {
      "text/plain": [
       "array([['', '', '', ''],\n",
       "       ['', '', '', ''],\n",
       "       ['', '', '', ''],\n",
       "       ['', '', '', '']], dtype='>U1')"
      ]
     },
     "execution_count": 92,
     "metadata": {},
     "output_type": "execute_result"
    }
   ],
   "source": [
    "arr"
   ]
  },
  {
   "cell_type": "code",
   "execution_count": 47,
   "id": "05ea70d3-ada5-4500-b8c8-b50549c765ff",
   "metadata": {},
   "outputs": [],
   "source": [
    "arr[:,0] = ['H', 'O', 'N', 'O']"
   ]
  },
  {
   "cell_type": "code",
   "execution_count": 48,
   "id": "5d42077f-bcb2-470c-8a47-6d4f690401d1",
   "metadata": {},
   "outputs": [
    {
     "data": {
      "text/plain": [
       "array([['H', '', '', ''],\n",
       "       ['O', '', '', ''],\n",
       "       ['N', '', '', ''],\n",
       "       ['O', '', '', '']], dtype='<U1')"
      ]
     },
     "execution_count": 48,
     "metadata": {},
     "output_type": "execute_result"
    }
   ],
   "source": [
    "arr"
   ]
  },
  {
   "cell_type": "code",
   "execution_count": 49,
   "id": "44d755a7-6fbf-48ab-acbc-5a80525c82db",
   "metadata": {},
   "outputs": [],
   "source": [
    "for i in range(len(arr)):\n",
    "    arr[i][i] = arr[i][i] + 'i'"
   ]
  },
  {
   "cell_type": "code",
   "execution_count": 50,
   "id": "183a5ca4-7aef-4b31-b34d-803cbe8213a8",
   "metadata": {},
   "outputs": [
    {
     "data": {
      "text/plain": [
       "array([['H', '', '', ''],\n",
       "       ['O', 'i', '', ''],\n",
       "       ['N', '', 'i', ''],\n",
       "       ['O', '', '', 'i']], dtype='<U1')"
      ]
     },
     "execution_count": 50,
     "metadata": {},
     "output_type": "execute_result"
    }
   ],
   "source": [
    "arr"
   ]
  },
  {
   "cell_type": "code",
   "execution_count": 44,
   "id": "d944097d-b97b-424f-af9d-d1f4593ca221",
   "metadata": {},
   "outputs": [
    {
     "data": {
      "text/plain": [
       "'Hi'"
      ]
     },
     "execution_count": 44,
     "metadata": {},
     "output_type": "execute_result"
    }
   ],
   "source": [
    "arr[0][0] + 'i'"
   ]
  },
  {
   "cell_type": "code",
   "execution_count": 52,
   "id": "419b3949-6d38-4427-9e07-af4546e4043d",
   "metadata": {},
   "outputs": [
    {
     "data": {
      "text/plain": [
       "'H\\nOi\\nNi\\nOi\\n'"
      ]
     },
     "execution_count": 52,
     "metadata": {},
     "output_type": "execute_result"
    }
   ],
   "source": [
    "mat = ''\n",
    "for i in range(len(arr)):\n",
    "    line= ''\n",
    "    for e in range(len(arr[i])):\n",
    "        line += arr[i][e]\n",
    "    mat += line + '\\n'\n",
    "mat"
   ]
  },
  {
   "cell_type": "code",
   "execution_count": 53,
   "id": "b4ad7cab-8afd-47b6-8e4d-ef662c1ac145",
   "metadata": {},
   "outputs": [],
   "source": [
    "pre_mat = [[],[],[],[],[],[]]"
   ]
  },
  {
   "cell_type": "code",
   "execution_count": 60,
   "id": "08c961d3-1dc9-4527-87b7-e12dc2a4af2b",
   "metadata": {},
   "outputs": [],
   "source": [
    "pre_mat[0].append(\"0\")"
   ]
  },
  {
   "cell_type": "code",
   "execution_count": 61,
   "id": "1ddf1bdc-3a57-4a4b-aa17-ddd3d3a3a502",
   "metadata": {},
   "outputs": [
    {
     "data": {
      "text/plain": [
       "[['0', '0', '0', '0'], [], [], [], [], []]"
      ]
     },
     "execution_count": 61,
     "metadata": {},
     "output_type": "execute_result"
    }
   ],
   "source": [
    "pre_mat"
   ]
  },
  {
   "cell_type": "code",
   "execution_count": 93,
   "id": "00613158-ff12-48e3-9157-264063623a11",
   "metadata": {},
   "outputs": [],
   "source": [
    "for i in range(len(arr[:,1])):\n",
    "    arr[i][0] = \"pre_mat[0]\""
   ]
  },
  {
   "cell_type": "code",
   "execution_count": 94,
   "id": "bce6207d-35b5-4c8a-8be2-6bbe58284ae4",
   "metadata": {},
   "outputs": [
    {
     "data": {
      "text/plain": [
       "array([['p', '', '', ''],\n",
       "       ['p', '', '', ''],\n",
       "       ['p', '', '', ''],\n",
       "       ['p', '', '', '']], dtype='>U1')"
      ]
     },
     "execution_count": 94,
     "metadata": {},
     "output_type": "execute_result"
    }
   ],
   "source": [
    "arr"
   ]
  },
  {
   "cell_type": "markdown",
   "id": "14d82594-81be-48a5-b470-2572e5636179",
   "metadata": {},
   "source": [
    "# HOONO"
   ]
  },
  {
   "cell_type": "code",
   "execution_count": 95,
   "id": "de8613e3-6451-4098-b99a-8d4ee7f190e1",
   "metadata": {},
   "outputs": [
    {
     "name": "stderr",
     "output_type": "stream",
     "text": [
      "<ipython-input-95-2d88661c93d1>:2: VisibleDeprecationWarning: Creating an ndarray from ragged nested sequences (which is a list-or-tuple of lists-or-tuples-or ndarrays with different lengths or shapes) is deprecated. If you meant to do this, you must specify 'dtype=object' when creating the ndarray.\n",
      "  specs = np.array([[1,2,3,4],[1,2,3],[1,2]])\n",
      "<ipython-input-95-2d88661c93d1>:3: VisibleDeprecationWarning: Creating an ndarray from ragged nested sequences (which is a list-or-tuple of lists-or-tuples-or ndarrays with different lengths or shapes) is deprecated. If you meant to do this, you must specify 'dtype=object' when creating the ndarray.\n",
      "  names = np.array([['r1', 'r2', 'r3', 'r4'],['a1', 'a2', 'a3'],['d1', 'd2']])\n",
      "<ipython-input-95-2d88661c93d1>:4: VisibleDeprecationWarning: Creating an ndarray from ragged nested sequences (which is a list-or-tuple of lists-or-tuples-or ndarrays with different lengths or shapes) is deprecated. If you meant to do this, you must specify 'dtype=object' when creating the ndarray.\n",
      "  vals = np.array([[0.96897556, 1.45491931, 1.45878406, 1.17072885],\n"
     ]
    }
   ],
   "source": [
    "atoms = ['H', 'O', 'O', 'N', 'O']\n",
    "specs = np.array([[1,2,3,4],[1,2,3],[1,2]])\n",
    "names = np.array([['r1', 'r2', 'r3', 'r4'],['a1', 'a2', 'a3'],['d1', 'd2']])\n",
    "vals = np.array([[0.96897556, 1.45491931, 1.45878406, 1.17072885],\n",
    "        [97.59494903, 102.29752444, 109.06955123],\n",
    "        [180.]])\n",
    "units=[\"Angstroms\", \"Degrees\"]"
   ]
  },
  {
   "cell_type": "code",
   "execution_count": 97,
   "id": "e3cef0f4-d313-4aab-bfa1-9d2e5f7b1c86",
   "metadata": {},
   "outputs": [
    {
     "ename": "IndexError",
     "evalue": "list index out of range",
     "output_type": "error",
     "traceback": [
      "\u001b[0;31m---------------------------------------------------------------------------\u001b[0m",
      "\u001b[0;31mIndexError\u001b[0m                                Traceback (most recent call last)",
      "\u001b[0;32m<ipython-input-97-56fdd1b021e4>\u001b[0m in \u001b[0;36m<module>\u001b[0;34m\u001b[0m\n\u001b[0;32m----> 1\u001b[0;31m \u001b[0mhoono_eq\u001b[0m \u001b[0;34m=\u001b[0m \u001b[0mmisc\u001b[0m\u001b[0;34m.\u001b[0m\u001b[0mbetter_zmat\u001b[0m\u001b[0;34m(\u001b[0m\u001b[0matoms\u001b[0m\u001b[0;34m=\u001b[0m\u001b[0matoms\u001b[0m\u001b[0;34m,\u001b[0m \u001b[0measy_build_dict\u001b[0m\u001b[0;34m=\u001b[0m\u001b[0;34m{\u001b[0m\u001b[0;34m'specs'\u001b[0m\u001b[0;34m:\u001b[0m\u001b[0mspecs\u001b[0m\u001b[0;34m,\u001b[0m \u001b[0;34m'names'\u001b[0m\u001b[0;34m:\u001b[0m\u001b[0mnames\u001b[0m\u001b[0;34m,\u001b[0m \u001b[0;34m'vals'\u001b[0m\u001b[0;34m:\u001b[0m\u001b[0mvals\u001b[0m\u001b[0;34m,\u001b[0m \u001b[0;34m'units'\u001b[0m\u001b[0;34m:\u001b[0m\u001b[0munits\u001b[0m\u001b[0;34m}\u001b[0m\u001b[0;34m)\u001b[0m\u001b[0;34m\u001b[0m\u001b[0;34m\u001b[0m\u001b[0m\n\u001b[0m",
      "\u001b[0;32m~/McCoy/CGH_Toolbox/misc.py\u001b[0m in \u001b[0;36m__init__\u001b[0;34m(self, atoms, coords, charge, easy_build_dict)\u001b[0m\n\u001b[1;32m    135\u001b[0m                     self.coords.append(int_coord(name=self.build_dict['names'][a][b],\n\u001b[1;32m    136\u001b[0m                                                  \u001b[0mspec\u001b[0m\u001b[0;34m=\u001b[0m\u001b[0mspecs\u001b[0m\u001b[0;34m[\u001b[0m\u001b[0mi\u001b[0m\u001b[0;34m]\u001b[0m\u001b[0;34m,\u001b[0m\u001b[0;34m\u001b[0m\u001b[0;34m\u001b[0m\u001b[0m\n\u001b[0;32m--> 137\u001b[0;31m                                                  \u001b[0mval\u001b[0m\u001b[0;34m=\u001b[0m\u001b[0mself\u001b[0m\u001b[0;34m.\u001b[0m\u001b[0mbuild_dict\u001b[0m\u001b[0;34m[\u001b[0m\u001b[0;34m'vals'\u001b[0m\u001b[0;34m]\u001b[0m\u001b[0;34m[\u001b[0m\u001b[0ma\u001b[0m\u001b[0;34m]\u001b[0m\u001b[0;34m[\u001b[0m\u001b[0mb\u001b[0m\u001b[0;34m]\u001b[0m\u001b[0;34m,\u001b[0m\u001b[0;34m\u001b[0m\u001b[0;34m\u001b[0m\u001b[0m\n\u001b[0m\u001b[1;32m    138\u001b[0m                                                  units=self.build_dict['units'][u]))\n\u001b[1;32m    139\u001b[0m                     \u001b[0mi\u001b[0m \u001b[0;34m+=\u001b[0m \u001b[0;36m1\u001b[0m\u001b[0;34m\u001b[0m\u001b[0;34m\u001b[0m\u001b[0m\n",
      "\u001b[0;31mIndexError\u001b[0m: list index out of range"
     ]
    }
   ],
   "source": [
    "hoono_eq = misc.better_zmat(atoms=atoms, easy_build_dict={'specs':specs, 'names':names, 'vals':vals, 'units':units})"
   ]
  },
  {
   "cell_type": "code",
   "execution_count": 98,
   "id": "932bcd5c-4a30-4738-a7de-e732ed535ad5",
   "metadata": {},
   "outputs": [],
   "source": [
    "str = 'hoono_a1_95p93353487832248'"
   ]
  },
  {
   "cell_type": "code",
   "execution_count": 99,
   "id": "ed2647c5-e64a-4c5d-8788-e4174172f957",
   "metadata": {},
   "outputs": [
    {
     "data": {
      "text/plain": [
       "'hoono_a1'"
      ]
     },
     "execution_count": 99,
     "metadata": {},
     "output_type": "execute_result"
    }
   ],
   "source": [
    "str[0:8]"
   ]
  },
  {
   "cell_type": "code",
   "execution_count": null,
   "id": "0f8e19b9-7256-4668-b3fe-aa7e4a099ea5",
   "metadata": {},
   "outputs": [],
   "source": []
  }
 ],
 "metadata": {
  "kernelspec": {
   "display_name": "Python 3",
   "language": "python",
   "name": "python3"
  },
  "language_info": {
   "codemirror_mode": {
    "name": "ipython",
    "version": 3
   },
   "file_extension": ".py",
   "mimetype": "text/x-python",
   "name": "python",
   "nbconvert_exporter": "python",
   "pygments_lexer": "ipython3",
   "version": "3.8.8"
  }
 },
 "nbformat": 4,
 "nbformat_minor": 5
}
